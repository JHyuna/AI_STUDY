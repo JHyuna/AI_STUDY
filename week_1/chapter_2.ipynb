{
 "cells": [
  {
   "cell_type": "markdown",
   "metadata": {},
   "source": [
    "# CHAPTER 02.scikit-learn"
   ]
  },
  {
   "cell_type": "markdown",
   "metadata": {},
   "source": [
    "## 목차\n",
    "\n",
    "* [01. scikit-learn](#01.-scikit-learn)\n",
    "* [02. iris 품종 예측](#02.-iris-품종-예측)\n",
    "* [03. sklearn 기반 프레임워크](#03.-sklearn-기반-프레임워크)\n",
    "* [04. Model selection module](#04.-Model-selection-module)\n",
    "* [05. 데이터 전처리(Data Preprocessing)](#05.-데이터-전처리(Data-Preprocessing))\n",
    "\n",
    "* [train_test_split()](#train_test_split())\n",
    "* [교차 검증](#교차-검증)\n",
    "* [KFold 교차 검증](#KFold-교차-검증)\n",
    "* [Stratified K Fold](#Stratified-K-Fold)\n",
    "* [cross_val_score()](#편리한-교차-검증,-cross_val_score())\n",
    "* [cross_validate() API](#cross_validate()-API)\n",
    "* [GridSearchCV](#GridSearchCV---교차-검증,-최적-하이퍼-파라미터-튜닝을-한번에-할-수-있는-API)\n",
    "\n",
    "* [피처 스케일링과 정규화](#피처-스케일링과-정규화)"
   ]
  },
  {
   "cell_type": "markdown",
   "metadata": {},
   "source": [
    "## 01. scikit-learn\n",
    "- 머신러닝 라이브러리 중 가장 많이 사용됨\n",
    "- 특징\n",
    "    - 가장 파이썬스러운 API\n",
    "    - ML을 위한 다양한 알고리즘과 개발을 위한 편리한 프레임워크, API 제공"
   ]
  },
  {
   "cell_type": "markdown",
   "metadata": {},
   "source": [
    "## 02. iris 품종 예측\n",
    "- iris data set로 붓꽃의 품종을 분류하는 것 \n",
    "    - 꽃잎의 길이, 너비 / 꽃받침의 길이, 너비 총 4개의 feature\n",
    "  \n",
    "  \n",
    "- Classification : 대표적인 지도학습(Supervised Learning)\n",
    "    - 지도학습\n",
    "        - 학습을 위한 feature + 분류결정값인 Lable = 학습 -> 별도의 테스트 데이터세트에서 미지의 레이블 예측\n",
    "        - 정확한 정답이 주어진 데이터를 먼저 학습한 후, 미지의 정답을 예측하는 방식 \n",
    "            - training data set(학습을 위한 데이터 세트)\n",
    "            - test data set(머신러닝 모델의 예측 성능을 평가하기 위한 별도의 데이터 세트)\n",
    "  \n",
    "  \n",
    "- scikit-learn package내의 module명 명명규칙(sklearn으로 시작)\n",
    "    - sklearn.datasets : 사이킷런에서 자체적으로 제공하는 데이터 세트를 생성하는 모듈의 모임 \n",
    "    - sklearn.tree : 트리기반 ML 알고리즘을 구현한 클래스의 모임\n",
    "    - sklearn.model_selection : 학습 데이터와 검증데이터, 예측 데이터로 데이터를 분리하거나 최적의 하이퍼 파라미터로 평가하지위한 다양한 모듈의 모임 \n",
    "        - 하이퍼 파라미터 : ML 알고리즘별로 최적의 학습을 위해 직접 입력하는 파라미터들을 총칭, 하이퍼파라미터->ML알고리즘 성능 튜닝\n",
    "        - train_test_split() : data set를 train/test로 분리하는데에 사용\n",
    "  \n",
    "  \n",
    "- iris classification process\n",
    "    - 1. 데이터 세트 분리 : 데이터를 train/test로 분리 (by train_test_split() method)\n",
    "    - 2. 모델 학습 : model 객체.fit(X_train, y_train)\n",
    "    - 3. 예측 수행 : model 객체.predict(X_test)\n",
    "    - 4. 평가 : 실제 결과인 y_test **VS** 예측된 결과인 model 객체.predict(X_test)"
   ]
  },
  {
   "cell_type": "code",
   "execution_count": 9,
   "metadata": {},
   "outputs": [
    {
     "name": "stdout",
     "output_type": "stream",
     "text": [
      "iris target값 :  [0 0 0 0 0 0 0 0 0 0 0 0 0 0 0 0 0 0 0 0 0 0 0 0 0 0 0 0 0 0 0 0 0 0 0 0 0\n",
      " 0 0 0 0 0 0 0 0 0 0 0 0 0 1 1 1 1 1 1 1 1 1 1 1 1 1 1 1 1 1 1 1 1 1 1 1 1\n",
      " 1 1 1 1 1 1 1 1 1 1 1 1 1 1 1 1 1 1 1 1 1 1 1 1 1 1 2 2 2 2 2 2 2 2 2 2 2\n",
      " 2 2 2 2 2 2 2 2 2 2 2 2 2 2 2 2 2 2 2 2 2 2 2 2 2 2 2 2 2 2 2 2 2 2 2 2 2\n",
      " 2 2]\n",
      "iris target명 :  ['setosa' 'versicolor' 'virginica']\n"
     ]
    },
    {
     "data": {
      "text/html": [
       "<div>\n",
       "<style scoped>\n",
       "    .dataframe tbody tr th:only-of-type {\n",
       "        vertical-align: middle;\n",
       "    }\n",
       "\n",
       "    .dataframe tbody tr th {\n",
       "        vertical-align: top;\n",
       "    }\n",
       "\n",
       "    .dataframe thead th {\n",
       "        text-align: right;\n",
       "    }\n",
       "</style>\n",
       "<table border=\"1\" class=\"dataframe\">\n",
       "  <thead>\n",
       "    <tr style=\"text-align: right;\">\n",
       "      <th></th>\n",
       "      <th>sepal length (cm)</th>\n",
       "      <th>sepal width (cm)</th>\n",
       "      <th>petal length (cm)</th>\n",
       "      <th>petal width (cm)</th>\n",
       "      <th>label</th>\n",
       "    </tr>\n",
       "  </thead>\n",
       "  <tbody>\n",
       "    <tr>\n",
       "      <th>0</th>\n",
       "      <td>5.1</td>\n",
       "      <td>3.5</td>\n",
       "      <td>1.4</td>\n",
       "      <td>0.2</td>\n",
       "      <td>0</td>\n",
       "    </tr>\n",
       "    <tr>\n",
       "      <th>1</th>\n",
       "      <td>4.9</td>\n",
       "      <td>3.0</td>\n",
       "      <td>1.4</td>\n",
       "      <td>0.2</td>\n",
       "      <td>0</td>\n",
       "    </tr>\n",
       "    <tr>\n",
       "      <th>2</th>\n",
       "      <td>4.7</td>\n",
       "      <td>3.2</td>\n",
       "      <td>1.3</td>\n",
       "      <td>0.2</td>\n",
       "      <td>0</td>\n",
       "    </tr>\n",
       "  </tbody>\n",
       "</table>\n",
       "</div>"
      ],
      "text/plain": [
       "   sepal length (cm)  sepal width (cm)  petal length (cm)  petal width (cm)  \\\n",
       "0                5.1               3.5                1.4               0.2   \n",
       "1                4.9               3.0                1.4               0.2   \n",
       "2                4.7               3.2                1.3               0.2   \n",
       "\n",
       "   label  \n",
       "0      0  \n",
       "1      0  \n",
       "2      0  "
      ]
     },
     "execution_count": 9,
     "metadata": {},
     "output_type": "execute_result"
    }
   ],
   "source": [
    "from sklearn.datasets import load_iris #from sklearn.datasets : 사이킷런 자체 data set 생성하는 module 모임\n",
    "from sklearn.tree import DecisionTreeClassifier #from sklearn.tree : 트리기반 ML AL을 구현한 class 모임 \n",
    "from sklearn.model_selection import train_test_split #form sklearn.model_selection : 학습/검증/예측 data로 분리 or 하이퍼파라미터 최적을 위한 module 모임\n",
    "\n",
    "import pandas as pd\n",
    "\n",
    "# 붓꽃 데이터 세트 로딩\n",
    "iris = load_iris()\n",
    "\n",
    "# iris.data는 Iris 데이터 세트에서 feature만으로 된 데이터를 numpy로 가짐\n",
    "iris_data = iris.data\n",
    "\n",
    "# iris.target은 Iris 데이터 세트에서 label(결정값) 데이터를 numpy로 가짐\n",
    "iris_label = iris.target\n",
    "\n",
    "print('iris target값 : ', iris_label)\n",
    "print('iris target명 : ', iris.target_names) # iris의 분류품종인 setosa, versicolor, virginica가 속함\n",
    "\n",
    "# 붓꽃 데이터 세트를 자세히 보기 위해 DataFrame으로 변환\n",
    "iris_df = pd.DataFrame(data=iris_data, columns=iris.feature_names) # feature_names : sepal length, sepal width, petal length, petal width의 4가지\n",
    "iris_df['label'] = iris.target # label column에 label값을 도입. 0은 seposa, 1은 versicolor, 2는 virginica 품종을 의미\n",
    "iris_df.head(3)"
   ]
  },
  {
   "cell_type": "markdown",
   "metadata": {},
   "source": [
    "### 숙지할 개념 \n",
    "  \n",
    "- train_test_split() API : data를 train/test로 쪼갬. 호출 시 무작위로 데이터를 분리함. -> tuple 형태로 반환\n",
    "- random_state : train_test_split가 무작위로 데이터를 쪼개므로, random_state를 지정하지 않으면 매번 다르게 date set가 쪼개짐.\n",
    "    - 수행할 때마다 같은 train/date set로 쪼개질 수 있게 해주는 장치\n",
    "    - 숫자 자체의 의미는 없음"
   ]
  },
  {
   "cell_type": "code",
   "execution_count": 10,
   "metadata": {},
   "outputs": [],
   "source": [
    "# train_test_split() API : 학습용 데이터와 테스트용 데이터로 분리. -> tuple 형태로 반환. \n",
    "\n",
    "# X_train : train_feature data set\n",
    "# X_test : test_feature data set\n",
    "# y_train : train_label data set\n",
    "# y_test : test_label data set\n",
    "\n",
    "X_train, X_test, y_train, y_test = train_test_split(iris_data, # feature data set\n",
    "                                                    iris_label, # label data set\n",
    "                                                    test_size=0.2, # 전체 data set 중 test data의 비율\n",
    "                                                    random_state=11 ) # 호출할 때마다 같은 train/test data set를 생성하기 위한 것"
   ]
  },
  {
   "cell_type": "code",
   "execution_count": 11,
   "metadata": {},
   "outputs": [],
   "source": [
    "# DecisionTreeClassifier 의사결정 트리로 학습(trian data를 사용)\n",
    "# DecisionTreeClassifier 객체 생성\n",
    "dt_clf = DecisionTreeClassifier(random_state=11)\n",
    "\n",
    "# 학습 수행 : 생성된 DecisionTreeClassifier 객체의 fit() 메서드에 X_train(학습용 피처 데이터 속성), y_train(학습용 레이블 데이터 세트)를 입력함\n",
    "dt_clf.fit(X_train, y_train)\n",
    "# 이제 의사결정트리 기반의 dt_clf 객체는 train data를 기반으로 학습이 완료된 상태\n",
    "\n",
    "# 학습이 완료된 DecisionTreeClassifier 객체에서 test date set로 예측 수행\n",
    "pred = dt_clf.predict(X_test) # pred = 학습을 통한 예측 값, label 값들로 이루어져 있음. [2,2,1,2,1,0,....] 형태"
   ]
  },
  {
   "cell_type": "code",
   "execution_count": 12,
   "metadata": {},
   "outputs": [
    {
     "name": "stdout",
     "output_type": "stream",
     "text": [
      "예측 정확도 : 0.9333\n"
     ]
    }
   ],
   "source": [
    "from sklearn.metrics import accuracy_score\n",
    "print('예측 정확도 : {0:.4f}'.format(accuracy_score(y_test, pred))) # 순서 : 실제 label(y_test), 예측된 label(pred)"
   ]
  },
  {
   "cell_type": "markdown",
   "metadata": {},
   "source": [
    "## 03. sklearn 기반 프레임워크\n",
    "- Estimator 이해\n",
    "    - Estimator = Classifier + Regressor = **지도학습**의 모든 AL을 구현한 class를 통칭\n",
    "    - Classifier(분류 알고리즘을 구현한 class)\n",
    "        - DesitionTreeClassifier / RandomForestClsrrifier / GradientBoostingClassifier / GaussianNB / SVC\n",
    "    - Regressor(회귀 알고리즘을 구현한 클래스)\n",
    "        - LinearRegression / Ridge / Lasso / RandomForestRegressor / GradientBoostingRegressor\n",
    "  \n",
    "  \n",
    "- sklearn의 fit(), predict() method\n",
    "    - ML 모델 학습을 위한 fit()\n",
    "    - 학습된 모델의 예측을 위한 predict()\n",
    "    - 모든 sklearn의 클래스(분류, 회귀)는 fit()으로 학습을, predict()로 예측 결과를 반환\n",
    "  \n",
    "  \n",
    "- sklearn의 비지도 학습(차원 축소, 클러스터링, 피쳐 추출(feature Extraction)등의 class : fit() / transform() 적용\n",
    "    - fit() : 지도 학습과 다른 의미. 입력 데이터의 형태에 맞춰 데이터를 변환하기 위한 사전 구조를 맞추는 작업\n",
    "    - 실제 작업을 transform()으로 수행\n",
    "    - fit + transform = fit_transform()도 제공\n",
    "  \n",
    "  \n",
    "- 일반적인 ML model 구축 주요 프로세스\n",
    "    - feature precessing : feature의 가공, 변경 추출\n",
    "    - ML AL 학습/예측 수행\n",
    "    - 모델 평가\n",
    "    - ...반복\n",
    "  \n",
    "  \n",
    "- 내장된 예제 데이터 세트\n",
    "|API 명|설명|\n",
    "|---|----|\n",
    "|datasets.load_boston()|회귀, 미국 보스턴의 집 피처들과 가격에 대한 데이터 세트|\n",
    "|datasets.load_breast_cancer()|분류, 위스콘신 유방암 피처들과 악성/음성 레이블 데이터 세트|\n",
    "|datasets.load_diabetes()|회귀, 당뇨 데이터 세트|\n",
    "|datasets.load_digits()|분류, 0에서 9까지의 숫자 이미지 픽셀 데이터 세트|\n",
    "|datasets.load_iris()|분류, 붓꽃에 대한 피처를 가진 데이터 세트|  \n",
    "  \n",
    "  \n",
    "- 분류와 클러스터링을 위한 표본 데이터 생성기\n",
    "\n",
    "|API명|설명|\n",
    "|---|---|\n",
    "|datasets.make_classifications()|분류를 위한 데이터 세트를 만든다. 특히 높은 상관도, 불필요한 속성등의 노이즈 효과를 위한 데이터를 무작위로 생성한다.|\n",
    "|datasets.make_blobs()|클러스터링을 위한 데이터 세트를 무작위로 생성한다. 군집 지정 개수에 따라 여러 가지 클러스터링을 위한 데이터 세트를 쉽게 만들어준다.|  \n",
    "  \n",
    "  \n",
    "\n",
    "- 예제 데이터 세트의 구성\n",
    "- sklearn에 내장된 데이터 세트들은 일반적으로 딕셔너리 형태\n",
    "- key : data, target, target_name, feature_names, DESCR로 구성\n",
    "    - data : feature data set -> ndarray 넘파이 배열 타입\n",
    "    - target : 분류 시 label값, 회귀일 때는 숫자 결괏값 data set -> ndarray 넘파이 배열 타입\n",
    "    - target_names : 개별 label의 이름 -> 넘파이 배열 or list 타입\n",
    "    - feature_names : feature의 이름 -> 넘파이 배열 or list 타입\n",
    "    - DESCR : data set에 대한 설명과 각 feature의 설명 -> string 타입\n",
    "- feature의 데이터 값을 반환받으려면? 내장 데이터 세트 API를 호출 -> key값을 지정"
   ]
  },
  {
   "cell_type": "code",
   "execution_count": 21,
   "metadata": {},
   "outputs": [
    {
     "name": "stdout",
     "output_type": "stream",
     "text": [
      "<class 'sklearn.utils.Bunch'>\n"
     ]
    }
   ],
   "source": [
    "# 붓꽃 데이터 세트 생성\n",
    "from sklearn.datasets import load_iris\n",
    "\n",
    "iris_data = load_iris()\n",
    "print(type(iris_data)) \n",
    "\n",
    "# load_iris() API의 반환 결과 : sklearn.utils.Bunch Class. \n",
    "# Bunch Class는 python의 dictionary 자료형과 유사함\n",
    "# 데이터 세트에 내장된 대부분의 data set는 이처럼 dictionary 형태의 값을 반환"
   ]
  },
  {
   "cell_type": "code",
   "execution_count": 22,
   "metadata": {},
   "outputs": [
    {
     "name": "stdout",
     "output_type": "stream",
     "text": [
      "붓꽃 데이터 세트의 키들: dict_keys(['data', 'target', 'frame', 'target_names', 'DESCR', 'feature_names', 'filename'])\n"
     ]
    }
   ],
   "source": [
    "# data set가 dictionary 형태이므로 key값을 확인해보자\n",
    "keys = iris_data.keys()\n",
    "print('붓꽃 데이터 세트의 키들:', keys)"
   ]
  },
  {
   "cell_type": "markdown",
   "metadata": {},
   "source": [
    "- key값 사용 : **data set.key** or **data set['key']**"
   ]
  },
  {
   "cell_type": "code",
   "execution_count": 23,
   "metadata": {},
   "outputs": [
    {
     "data": {
      "text/plain": [
       "array(['setosa', 'versicolor', 'virginica'], dtype='<U10')"
      ]
     },
     "execution_count": 23,
     "metadata": {},
     "output_type": "execute_result"
    }
   ],
   "source": [
    "# data set의 key 중 target_names key를 사용해보면\n",
    "iris_data.target_names"
   ]
  },
  {
   "cell_type": "code",
   "execution_count": 24,
   "metadata": {},
   "outputs": [
    {
     "data": {
      "text/plain": [
       "array(['setosa', 'versicolor', 'virginica'], dtype='<U10')"
      ]
     },
     "execution_count": 24,
     "metadata": {},
     "output_type": "execute_result"
    }
   ],
   "source": [
    "# data set의 key 중 target_names key를 사용해보면\n",
    "iris_data['target_names']"
   ]
  },
  {
   "cell_type": "code",
   "execution_count": 27,
   "metadata": {},
   "outputs": [
    {
     "name": "stdout",
     "output_type": "stream",
     "text": [
      "\n",
      " feature_names의 type: <class 'list'>\n",
      " feature_names의 shape: 4\n",
      "['sepal length (cm)', 'sepal width (cm)', 'petal length (cm)', 'petal width (cm)']\n",
      "\n",
      " target_names의 type: <class 'numpy.ndarray'>\n",
      " target_names의 shape: 3\n",
      "['setosa' 'versicolor' 'virginica']\n",
      "\n",
      " data의 type: <class 'numpy.ndarray'>\n",
      " data의 shape: (150, 4)\n",
      "\n",
      " target의 type: <class 'numpy.ndarray'>\n",
      " target의 shape: (150,)\n",
      "[0 0 0 0 0 0 0 0 0 0 0 0 0 0 0 0 0 0 0 0 0 0 0 0 0 0 0 0 0 0 0 0 0 0 0 0 0\n",
      " 0 0 0 0 0 0 0 0 0 0 0 0 0 1 1 1 1 1 1 1 1 1 1 1 1 1 1 1 1 1 1 1 1 1 1 1 1\n",
      " 1 1 1 1 1 1 1 1 1 1 1 1 1 1 1 1 1 1 1 1 1 1 1 1 1 1 2 2 2 2 2 2 2 2 2 2 2\n",
      " 2 2 2 2 2 2 2 2 2 2 2 2 2 2 2 2 2 2 2 2 2 2 2 2 2 2 2 2 2 2 2 2 2 2 2 2 2\n",
      " 2 2]\n"
     ]
    }
   ],
   "source": [
    "# load_iris()가 반한하는 객체의 키 feature_names, target_name, data, target이 가리키는 값 출력\n",
    "print('\\n feature_names의 type:', type(iris_data.feature_names))\n",
    "print(' feature_names의 shape:', len(iris_data.feature_names)) # 1차원 array이기에 len()\n",
    "print(iris_data.feature_names)\n",
    "\n",
    "print('\\n target_names의 type:', type(iris_data.target_names))\n",
    "print(' target_names의 shape:', len(iris_data.target_names)) # 1차원 array이기에 len()\n",
    "print(iris_data.target_names)\n",
    "\n",
    "print('\\n data의 type:', type(iris_data.data))\n",
    "print(' data의 shape:', iris_data.data.shape) # 2차원 array이기에 shape\n",
    "# print(iris_data.data)\n",
    "\n",
    "print('\\n target의 type:', type(iris_data.target))\n",
    "print(' target의 shape:', iris_data.target.shape) # 2차원 array이기에 shape\n",
    "print(iris_data.target)"
   ]
  },
  {
   "cell_type": "markdown",
   "metadata": {},
   "source": [
    "## 04. Model selection module\n",
    "- sklearn의 model_selection module에서 제공하는 함수/클래스\n",
    "    - train data/test data의 분리 (train_test_split())\n",
    "    - 교차 검증 분할 및 평가(KFold, Stratified_KFold)\n",
    "    - Estimator의 하이퍼 파라미터를 튜닝"
   ]
  },
  {
   "cell_type": "code",
   "execution_count": 28,
   "metadata": {},
   "outputs": [
    {
     "name": "stdout",
     "output_type": "stream",
     "text": [
      "예측 정확도 :  1.0\n"
     ]
    }
   ],
   "source": [
    "# train/test를 분할하지 않았을 때의 문제 : 모의고사만 똑같은 거 2번 보는 셈\n",
    "from sklearn.datasets import load_iris\n",
    "from sklearn.tree import DecisionTreeClassifier\n",
    "from sklearn.metrics import accuracy_score\n",
    "\n",
    "iris = load_iris()\n",
    "dt_clf = DecisionTreeClassifier()\n",
    "train_data = iris.data\n",
    "train_label = iris.target\n",
    "\n",
    "dt_clf.fit(train_data, train_label)\n",
    "\n",
    "# 학습 데이터 세트로 예측\n",
    "pred = dt_clf.predict(train_data)\n",
    "print('예측 정확도 : ', accuracy_score(train_label, pred))"
   ]
  },
  {
   "cell_type": "markdown",
   "metadata": {},
   "source": [
    "### train_test_split()\n",
    "  \n",
    "- 학습/테스트 데이터 세트 분리 - train_test_split()\n",
    "- sklearn.model_selection module에서 train_test_split 로드\n",
    "    - Parameter\n",
    "        - 1st : **feature data set**\n",
    "        - 2nd : **label data set**\n",
    "        - other\n",
    "            - test_size: 전체 데이터 중 test data의 크기. default는 0.25\n",
    "            - shuffle : default는 True. 데이터 분리 전 미리 섞을 지 결정함.\n",
    "                        데이터를 분산시켜서 좀 더 효율적인 학습/테스트 데이터 세트 생성가능\n",
    "            - random_state : 호출할 때마다 동일한 학습/테스트용 데이터 세트를 생서하기 위한 것  \n",
    "   \n",
    "   \n",
    "- **반환값 : tuple 형태. 순서가 지정되어 있음.**\n",
    "    - 학습용 데이터의 피처 데이터 세트, 테스트용 데이터의 피처 데이터 세트\n",
    "    - **X_train, X_test**\n",
    "    - 학습용 데이터의 레이블 데이터 세트, 테스트용 데이터의 레이블 데이터 세트\n",
    "    - **y_train, y_test**"
   ]
  },
  {
   "cell_type": "code",
   "execution_count": 29,
   "metadata": {},
   "outputs": [],
   "source": [
    "from sklearn.tree import DecisionTreeClassifier\n",
    "from sklearn.metrics import accuracy_score\n",
    "from sklearn.datasets import load_iris\n",
    "from sklearn.model_selection import train_test_split\n",
    "\n",
    "iris_data = load_iris()\n",
    "dt_clf = DecisionTreeClassifier()\n",
    "\n",
    "X_train, X_test, y_train, y_test = train_test_split(iris_data.data, iris_data.target, \\\n",
    "                                                   test_size=0.3, random_state=121)"
   ]
  },
  {
   "cell_type": "code",
   "execution_count": 30,
   "metadata": {},
   "outputs": [
    {
     "name": "stdout",
     "output_type": "stream",
     "text": [
      "예측 정확도:0.9556\n"
     ]
    }
   ],
   "source": [
    "# 학습 데이터를 기반으로 dt_clf 학습, 모델을 이용해 예측 정확도 측정\n",
    "dt_clf.fit(X_train, y_train)\n",
    "pred = dt_clf.predict(X_test)\n",
    "print('예측 정확도:{0:.4f}'.format(accuracy_score(y_test, pred))) # 순서 : 실제, 예측"
   ]
  },
  {
   "cell_type": "markdown",
   "metadata": {},
   "source": [
    "### **교차 검증**\n",
    "- Overfitting(과적합)의 문제\n",
    "    - 과적합 : 모델이 학습데이터에만 과도하게 최적화되어 실제 예측을 다른 데이터로 수행 시, 예측 성능이 과도하게 떨어지는 현상\n",
    "    - 문제점을 개선하기 위한 것이 교차 검증\n",
    "  \n",
    "  \n",
    "- 교차 검증의 개념\n",
    "    - 본 고사를 치루기 전 최대한 여러번의 모의고사를 보는 것\n",
    "    - 본고사 = test data set\n",
    "    - 모의 고사\n",
    "        - train data를 더 쪼개서 진행\n",
    "            - train(학습)\n",
    "            - Verification(검증)\n",
    "            - test\n",
    "        - 교차 검증에서 많은 학습과 검증 세트에서 알고리즘 학습과 평가를 수행하는 것\n",
    "    - ML은 데이터에 기반 -> 데이터는 이상치, 분포도, 다양한 속성값, 피처 중요도 등 여러가지 ML에 영향을 미치는 요소를 가짐\n",
    "    - **<u>데이터 편중을 막기 위해 별도의 여러 세트로 구성된 학습 데이터 세트와 검증 데이터 세트에서 학습과 평가를 수행</u>**\n",
    "  \n",
    "  \n",
    "- 대부분의 ML model의 성능 평가는 교차 검증 기반으로 1차 평가 -> 최종적으로 test data set에 적용해 평가하는 precess\n",
    "  \n",
    "- ML에 사용되는 data set를 세분화하여 train(학습)/Verification(검증)/test data set로 나눔\n",
    "    - test data set외에 별도의 Verification data set를 둬서 최종 평가 이전에 다양한 평가를 수행"
   ]
  },
  {
   "cell_type": "markdown",
   "metadata": {},
   "source": [
    "### **KFold 교차 검증**\n",
    "- 가장 보편적으로 사용되는 교차 검증 기법\n",
    "- K개의 데이터 폴드 세트를 생성\n",
    "- K번만큼 각 폴드 세트에 학습과 검증 평가를 반복적으로 수행\n",
    "- K번의 평가를 **평균내어 예측 성능을 평가**"
   ]
  },
  {
   "cell_type": "code",
   "execution_count": 32,
   "metadata": {},
   "outputs": [
    {
     "name": "stdout",
     "output_type": "stream",
     "text": [
      "붓꽃 데이터 세트 크기 :  150\n"
     ]
    }
   ],
   "source": [
    "from sklearn.tree import DecisionTreeClassifier\n",
    "from sklearn.metrics import accuracy_score\n",
    "from sklearn.model_selection import KFold\n",
    "from sklearn.datasets import load_iris\n",
    "import numpy as np\n",
    "\n",
    "iris = load_iris()\n",
    "features = iris.data\n",
    "label = iris.target\n",
    "dt_clf = DecisionTreeClassifier(random_state=156)\n",
    "\n",
    "# 5개의 폴드 세트로 분리하는 KFold 객체와 폴드 세트별 정확도를 담을 리스트 객체 생성\n",
    "kfold = KFold(n_splits=5)\n",
    "\n",
    "cv_accuracy=[] # 각각의 정확도를 담을 리스트 객체\n",
    "print('붓꽃 데이터 세트 크기 : ', features.shape[0])"
   ]
  },
  {
   "cell_type": "code",
   "execution_count": 33,
   "metadata": {},
   "outputs": [
    {
     "name": "stdout",
     "output_type": "stream",
     "text": [
      "\n",
      "#1 교차 검증 정확도 : 1.0, 학습 데이터 크기 : 120, 검증데이터 크기: 30\n",
      "#1 검증 세트 인덱스 : [ 0  1  2  3  4  5  6  7  8  9 10 11 12 13 14 15 16 17 18 19 20 21 22 23\n",
      " 24 25 26 27 28 29]\n",
      "\n",
      "#2 교차 검증 정확도 : 0.9667, 학습 데이터 크기 : 120, 검증데이터 크기: 30\n",
      "#2 검증 세트 인덱스 : [30 31 32 33 34 35 36 37 38 39 40 41 42 43 44 45 46 47 48 49 50 51 52 53\n",
      " 54 55 56 57 58 59]\n",
      "\n",
      "#3 교차 검증 정확도 : 0.8667, 학습 데이터 크기 : 120, 검증데이터 크기: 30\n",
      "#3 검증 세트 인덱스 : [60 61 62 63 64 65 66 67 68 69 70 71 72 73 74 75 76 77 78 79 80 81 82 83\n",
      " 84 85 86 87 88 89]\n",
      "\n",
      "#4 교차 검증 정확도 : 0.9333, 학습 데이터 크기 : 120, 검증데이터 크기: 30\n",
      "#4 검증 세트 인덱스 : [ 90  91  92  93  94  95  96  97  98  99 100 101 102 103 104 105 106 107\n",
      " 108 109 110 111 112 113 114 115 116 117 118 119]\n",
      "\n",
      "#5 교차 검증 정확도 : 0.7333, 학습 데이터 크기 : 120, 검증데이터 크기: 30\n",
      "#5 검증 세트 인덱스 : [120 121 122 123 124 125 126 127 128 129 130 131 132 133 134 135 136 137\n",
      " 138 139 140 141 142 143 144 145 146 147 148 149]\n",
      "\n",
      "## 평균 검증 정확도 :  0.9\n"
     ]
    }
   ],
   "source": [
    "# 전체 붓꽃 데이터를 5개의 폴드 데이터 세트로 분리\n",
    "# 1/5는 검증 테스트 데이터 세트, 4/5는 학습용 데이터 세트\n",
    "# 학습용/검증용 데이터 추출은 반환된 인덱스를 기반으로 개발코드에서 직접 수행\n",
    "\n",
    "n_iter = 0\n",
    "\n",
    "# KFold 객체의 split()를 호출하면 폴드 별 학습용, 검증용 테스트의 로우 인덱스를 array로 반환\n",
    "for train_index, test_index in kfold.split(features): # KFold는 매개변수로 feature data set가 들어감.\n",
    "    # kfold.split()으로 반환된 인덱스를 이용해 학습용, 검증용 테스트 데이터 추출\n",
    "    X_train, X_test = features[train_index], features[test_index]\n",
    "    y_train, y_test = label[train_index], label[test_index]\n",
    "    \n",
    "    # 학습 및 예측\n",
    "    dt_clf.fit(X_train, y_train)\n",
    "    pred = dt_clf.predict(X_test)\n",
    "    n_iter += 1\n",
    "    \n",
    "    # 반복 시마다 정확도 측정\n",
    "    accuracy = np.round(accuracy_score(y_test, pred), 4) # np.round(a,4) : a를 소수점 4째자리까지 출력\n",
    "    train_size = X_train.shape[0]\n",
    "    test_size = X_test.shape[0]\n",
    "    \n",
    "    print('\\n#{0} 교차 검증 정확도 : {1}, 학습 데이터 크기 : {2}, 검증데이터 크기: {3}'\n",
    "         .format(n_iter, accuracy, train_size, test_size))\n",
    "    print('#{0} 검증 세트 인덱스 : {1}'.format(n_iter, test_index))\n",
    "    cv_accuracy.append(accuracy)\n",
    "    \n",
    "# 개별 iteration별 정확도를 합하여 평균 정확도 계산\n",
    "print('\\n## 평균 검증 정확도 : ', np.mean(cv_accuracy))"
   ]
  },
  {
   "cell_type": "markdown",
   "metadata": {},
   "source": [
    "### **Stratified K Fold**\n",
    "- 불균형한(imbalanced) 분포도를 가진 label(결정 클래스) data set을 위한 K Fold 방식\n",
    "    - 불균형한 분포도를 가진 label data set : 특정 레이블 값이 더 많거나 적어서 분포가 치우친 상태\n",
    "        - ex) 대출 사기 데이터 예측. 정상 대출(0) 대비 사기(1) 건수는 0.001% 정도\n",
    "        - 1 label이 너무 적음. KFold에서는 이 1 label이 한 data set에 몰려버릴 수 있음. \n",
    "        - 원본 데이터와 유사한 대출 사기 label 값의 분포를 학습/테스트 세트에도 유지해야함\n",
    "  \n",
    "  \n",
    "- Stratified KFold는 원본 데이터의 **<u>label 분포를 먼저 고려함</u>**. 해당 분포와 동일하게 학습/검증 데이터 세트를 분해함.\n",
    "- 일반적으로 분류(Classification)에서의 교차 검증은 KFold가 아니라 StratifiedKFold로 분할되어야 함. \n",
    "- 회귀(Regression)에서는 Stratified KFold가 지원되지 않음 -> 회귀의 결정값은 이산값 형태의 label이 아니라 연속된 숫자값이므로 분포를 결정할 필요가 없음"
   ]
  },
  {
   "cell_type": "code",
   "execution_count": 1,
   "metadata": {},
   "outputs": [
    {
     "data": {
      "text/plain": [
       "2    50\n",
       "1    50\n",
       "0    50\n",
       "Name: label, dtype: int64"
      ]
     },
     "execution_count": 1,
     "metadata": {},
     "output_type": "execute_result"
    }
   ],
   "source": [
    "import pandas as pd\n",
    "from sklearn.datasets import load_iris\n",
    "\n",
    "iris = load_iris()\n",
    "iris_df = pd.DataFrame(data=iris.data, columns=iris.feature_names)\n",
    "iris_df['label'] = iris.target \n",
    "iris_df['label'].value_counts()"
   ]
  },
  {
   "cell_type": "code",
   "execution_count": 6,
   "metadata": {},
   "outputs": [
    {
     "name": "stdout",
     "output_type": "stream",
     "text": [
      "## 교차 검증 : 1\n",
      "\n",
      "학습 레이블 데이터 분포:\n",
      " 2    50\n",
      "1    50\n",
      "Name: label, dtype: int64\n",
      "\n",
      "검증 레이블 데이터 분포:\n",
      " 0    50\n",
      "Name: label, dtype: int64\n",
      "\n",
      "\n",
      "## 교차 검증 : 2\n",
      "\n",
      "학습 레이블 데이터 분포:\n",
      " 2    50\n",
      "0    50\n",
      "Name: label, dtype: int64\n",
      "\n",
      "검증 레이블 데이터 분포:\n",
      " 1    50\n",
      "Name: label, dtype: int64\n",
      "\n",
      "\n",
      "## 교차 검증 : 3\n",
      "\n",
      "학습 레이블 데이터 분포:\n",
      " 1    50\n",
      "0    50\n",
      "Name: label, dtype: int64\n",
      "\n",
      "검증 레이블 데이터 분포:\n",
      " 2    50\n",
      "Name: label, dtype: int64\n",
      "\n",
      "\n"
     ]
    }
   ],
   "source": [
    "# KFold의 이슈 현상을 직접 확인. \n",
    "# 3개의 폴드를 KFold로 생성, 각 교차 검증 때마다 생성되는 학습/검증 label data 값의 분포도를 확인\n",
    "from sklearn.tree import DecisionTreeClassifier\n",
    "from sklearn.metrics import accuracy_score\n",
    "from sklearn.model_selection import KFold\n",
    "import numpy as np\n",
    "\n",
    "kfold = KFold(n_splits=3)\n",
    "n_iter = 0\n",
    "for train_index, test_index in kfold.split(iris_df):\n",
    "    n_iter += 1\n",
    "    label_train = iris_df['label'].iloc[train_index]\n",
    "    label_test = iris_df['label'].iloc[test_index]\n",
    "    print('## 교차 검증 : {0}'.format(n_iter))\n",
    "    print()\n",
    "    print('학습 레이블 데이터 분포:\\n', label_train.value_counts())\n",
    "    print()\n",
    "    print('검증 레이블 데이터 분포:\\n', label_test.value_counts())\n",
    "    print()\n",
    "    print()\n",
    "    \n",
    "# 각 교차 검증마다 label이 편중되어, 학습하지 못하는 label이 생김. \n",
    "# 교차 검증 1의 경우, label 1과 2는 학습했으나, 0은 학습하지 못했음. 근데 검증은 label 0으로 해야하므로 크게 성능저하 나타남."
   ]
  },
  {
   "cell_type": "markdown",
   "metadata": {},
   "source": [
    "### KFold와 StrtifiedKFold 코드의 차이\n",
    "  \n",
    "- KFold는 for train_index, test_index in KFold.split(): 에서 매개변수에 feature data set만 들어가면 됨\n",
    "- Stratified KFold는 <u>레이블 데이터 분포도에 다라 학습/검증 데이터를 나누기 때문에</u> <b>skf.split() 매개변수 자리에 feature data set + label data set도 포함!</b>"
   ]
  },
  {
   "cell_type": "code",
   "execution_count": 9,
   "metadata": {},
   "outputs": [
    {
     "name": "stdout",
     "output_type": "stream",
     "text": [
      "## 교차 검증 : 1\n",
      "\n",
      "학습 레이블 데이터 분포:\n",
      " 2    34\n",
      "1    33\n",
      "0    33\n",
      "Name: label, dtype: int64\n",
      "\n",
      "검증 레이블 데이터 분포:\n",
      " 1    17\n",
      "0    17\n",
      "2    16\n",
      "Name: label, dtype: int64\n",
      "\n",
      "\n",
      "## 교차 검증 : 2\n",
      "\n",
      "학습 레이블 데이터 분포:\n",
      " 1    34\n",
      "2    33\n",
      "0    33\n",
      "Name: label, dtype: int64\n",
      "\n",
      "검증 레이블 데이터 분포:\n",
      " 2    17\n",
      "0    17\n",
      "1    16\n",
      "Name: label, dtype: int64\n",
      "\n",
      "\n",
      "## 교차 검증 : 3\n",
      "\n",
      "학습 레이블 데이터 분포:\n",
      " 0    34\n",
      "2    33\n",
      "1    33\n",
      "Name: label, dtype: int64\n",
      "\n",
      "검증 레이블 데이터 분포:\n",
      " 2    17\n",
      "1    17\n",
      "0    16\n",
      "Name: label, dtype: int64\n",
      "\n",
      "\n"
     ]
    }
   ],
   "source": [
    "# Stratified KFold로 학습/검증 레이블 데이터 분포를 살펴보면, 균일하게 분포된 것을 확인할 수 있음. \n",
    "# 학습 레이블과 검증 레이블 데이터 값의 분포도가 동일하게 할당되었음.\n",
    "\n",
    "from sklearn.model_selection import StratifiedKFold\n",
    "\n",
    "skf = StratifiedKFold(n_splits=3)\n",
    "n_iter = 0\n",
    "\n",
    "for train_index, test_index in skf.split(iris_df, iris_df['label']):\n",
    "    n_iter +=1\n",
    "    label_train = iris_df['label'].iloc[train_index]\n",
    "    label_test = iris_df['label'].iloc[test_index]\n",
    "    print('## 교차 검증 : {0}'.format(n_iter))\n",
    "    print()\n",
    "    print('학습 레이블 데이터 분포:\\n', label_train.value_counts())\n",
    "    print()\n",
    "    print('검증 레이블 데이터 분포:\\n', label_test.value_counts())\n",
    "    print()\n",
    "    print()"
   ]
  },
  {
   "cell_type": "code",
   "execution_count": 12,
   "metadata": {},
   "outputs": [
    {
     "name": "stdout",
     "output_type": "stream",
     "text": [
      "\n",
      "#1 교차 검증 정확도 : 0.98, 학습 데이터 크기 : 100, 검증 데이터 크기 : 50\n",
      "#1  검증 세트 인덱스 : [  0   1   2   3   4   5   6   7   8   9  10  11  12  13  14  15  16  50\n",
      "  51  52  53  54  55  56  57  58  59  60  61  62  63  64  65  66 100 101\n",
      " 102 103 104 105 106 107 108 109 110 111 112 113 114 115]\n",
      "\n",
      "#2 교차 검증 정확도 : 0.94, 학습 데이터 크기 : 100, 검증 데이터 크기 : 50\n",
      "#2  검증 세트 인덱스 : [ 17  18  19  20  21  22  23  24  25  26  27  28  29  30  31  32  33  67\n",
      "  68  69  70  71  72  73  74  75  76  77  78  79  80  81  82 116 117 118\n",
      " 119 120 121 122 123 124 125 126 127 128 129 130 131 132]\n",
      "\n",
      "#3 교차 검증 정확도 : 0.98, 학습 데이터 크기 : 100, 검증 데이터 크기 : 50\n",
      "#3  검증 세트 인덱스 : [ 34  35  36  37  38  39  40  41  42  43  44  45  46  47  48  49  83  84\n",
      "  85  86  87  88  89  90  91  92  93  94  95  96  97  98  99 133 134 135\n",
      " 136 137 138 139 140 141 142 143 144 145 146 147 148 149]\n",
      "\n",
      "## 교차 검증별 정확도 :  [0.98 0.94 0.98]\n",
      "## 평균 검증 정확도 :  0.9666666666666667\n"
     ]
    }
   ],
   "source": [
    "# Stratified KFold를 통한 iris classification 학습 및 평가\n",
    "from sklearn.tree import DecisionTreeClassifier\n",
    "from sklearn.metrics import accuracy_score\n",
    "from sklearn.model_selection import StratifiedKFold\n",
    "import numpy as np\n",
    "from sklearn.datasets import load_iris\n",
    "\n",
    "iris = load_iris()\n",
    "features = iris.data\n",
    "label = iris.target\n",
    "\n",
    "dt_clf = DecisionTreeClassifier(random_state=156)\n",
    "skfold = StratifiedKFold(n_splits = 3)\n",
    "n_iter = 0\n",
    "cv_accuracy=[]\n",
    "\n",
    "\n",
    "\n",
    "# StratifiedKFold의 split() 호출 시 반드시 레이블 데이터 세트도 추가 입력 필요\n",
    "for train_index, test_index in skfold.split(features, label):\n",
    "    # split()으로 반환된 인덱스를 이용해 학습/검증용 테스트 데이터 추출\n",
    "    X_train, X_test = features[train_index], features[test_index]\n",
    "    y_train, y_test = label[train_index], label[test_index]\n",
    "    \n",
    "    # 학습 및 예측\n",
    "    dt_clf.fit(X_train, y_train)\n",
    "    pred = dt_clf.predict(X_test)\n",
    "    \n",
    "    # 반복 시마다 정확도 측정\n",
    "    n_iter += 1\n",
    "    accuracy = np.round(accuracy_score(y_test, pred), 4)\n",
    "    train_size = X_train.shape[0]\n",
    "    test_size = X_test.shape[0]\n",
    "    \n",
    "    print('\\n#{0} 교차 검증 정확도 : {1}, 학습 데이터 크기 : {2}, 검증 데이터 크기 : {3}'.format(n_iter, accuracy, train_size, test_size))\n",
    "    print('#{0}  검증 세트 인덱스 : {1}'.format(n_iter, test_index))\n",
    "    cv_accuracy.append(accuracy)\n",
    "    \n",
    "# 교차 검증별 정확도 및 평균 정확도 \n",
    "print('\\n## 교차 검증별 정확도 : ', np.round(cv_accuracy, 4))\n",
    "print('## 평균 검증 정확도 : ', np.mean(cv_accuracy))"
   ]
  },
  {
   "cell_type": "markdown",
   "metadata": {},
   "source": [
    "### 편리한 교차 검증, cross_val_score()\n",
    "- KFold의 방식\n",
    "    - 1. 폴드 세트를 설정 \n",
    "    - 2. for loop에서 반복으로 학습/테스트 데이터의 인덱스 추출\n",
    "    - 3. 반복적으로 학습/예측을 수행한 후 예측 성능 반환\n",
    "      \n",
    "    -    -> **이 과정을 한꺼번에 해주는 것이 cross_val_score()**  \n",
    "      \n",
    "- cross_val_score() API는 내부에서 Estimator를 학습(fit) / 예측(predict) / 평가(evaluation) 시켜주므로 간단히 교차 검증을 할 수 있음\n",
    "- cross_val_score()는 cv로 지정된 횟수만큼 평가, scoring 파라미터로 지정된 평가 지표로 평과결괏값을 배열로 반환 -> 평균한 값을 평가 수치로 사용\n",
    "\n",
    "   \n",
    "     \n",
    "- cross_val_score(estimator, X, y=None, scoring=None, cv=None, n_jobs=1, verbose=0, fit_params=None, pre_dispatch='2*n_jobs')\n",
    "    - 주요 파라미터 : estimator, X, y, scoring, cv\n",
    "        - estimator : 사이킷런의 분류 AL Class인 Classifier / Regression을 의미\n",
    "            - <u>estimator에 classifier가 입력되면 -> Stratified KFold 방식으로 학습/테스트 세트 분할</u>\n",
    "            - <u>회귀의 경우에는 Stratified KFold 지원 X -> KFold 방식으로 분할</u>\n",
    "        - X : feature data set\n",
    "        - y : label data set\n",
    "        - scoring : 예측 성능 평가 지표\n",
    "        - cv : 교차 검증 폴드 수\n",
    "    - 반환값 : scoring parameter로 지저오딘 성능 지표 측정값을 배열 형태로 반환"
   ]
  },
  {
   "cell_type": "code",
   "execution_count": 14,
   "metadata": {},
   "outputs": [
    {
     "name": "stdout",
     "output_type": "stream",
     "text": [
      "교차 검증별 정확도 :  [0.98 0.94 0.98]\n",
      "평균 검증 정확도 :  0.9667\n"
     ]
    }
   ],
   "source": [
    "from sklearn.tree import DecisionTreeClassifier\n",
    "from sklearn.model_selection import cross_val_score, cross_validate\n",
    "from sklearn.datasets import load_iris\n",
    "\n",
    "iris_data = load_iris()\n",
    "dt_clf = DecisionTreeClassifier(random_state=156)\n",
    "\n",
    "data = iris_data.data\n",
    "label = iris_data.target\n",
    "\n",
    "# 성능 지표는 정확도(accuracy), 교차 검증 세트는 3개\n",
    "scores = cross_val_score(dt_clf, data, label, scoring='accuracy', cv=3)\n",
    "print('교차 검증별 정확도 : ', np.round(scores,4))\n",
    "print('평균 검증 정확도 : ', np.round(np.mean(scores), 4)) # 결과값이 위의 Stratified KFold 코드와 동일함"
   ]
  },
  {
   "cell_type": "markdown",
   "metadata": {},
   "source": [
    "### cross_validate() API\n",
    "- cross_val_score는 1가지 종류의 평가 지표를 반환\n",
    "- cross_validata는 여러 종류의 평가 지표를 반환\n",
    "    - 학습 데이터에 대한 성능 평가 지표와\n",
    "    - 수행시간도 함께 제공\n",
    "  \n",
    "  \n",
    "- https://scikit-learn.org/stable/modules/generated/sklearn.model_selection.cross_validate.html\n",
    "- sklearn.model_selection.cross_validate(estimator, X, y=None, *, groups=None, scoring=None, cv=None, n_jobs=None, verbose=0, fit_params=None, pre_dispatch='2*n_jobs', return_train_score=False, return_estimator=False, error_score=nan)"
   ]
  },
  {
   "cell_type": "markdown",
   "metadata": {},
   "source": [
    "### GridSearchCV - 교차 검증, 최적 하이퍼 파라미터 튜닝을 한번에 할 수 있는 API\n",
    "- 하이퍼 파라미터 : ML AL을 구성하는 주요 구성 요소, 이 값을 조정해 AL의 예측 성능을 개선할 수 있음.\n",
    "- sklearn은 GridSearchCV API를 이용해 Classifier나 Regressor와 같은 알고리즘에 사용되는 하이퍼 파라미터를 순차적으로 입력 -> 편리하게 최적 파라미터를 도출할 수 있음\n",
    "    - Grid(격차) : 촘촘하게 파라미터를 입력하면서 테스트 하는 방식\n",
    "    - ex) 결정 트리 AL의 여러 하이퍼 파라미터를 순차적으로 변경하면서 최고 성능을 가지는 파라미터 조합을 찾는 예\n",
    "        - 파라미터의 집합을 만든다\n",
    "        - 순차적으로 적용하면서 최적화를 수행한다\n",
    "        - 교차 검증을 기반으로 하이퍼 파라미터의 최적값을 찾게 해준다.\n",
    "  \n",
    "- GridSearchCV Class의 생성자로 들어가는 주요 파라미터\n",
    "    - estimator : classifier, regressor, pipeline\n",
    "    - param_grid : key + 리스트 값을 가지는 딕셔너리가 주어짐. estimator의 튜닝을 위해 파라미터명과 사용될 여러 파라미터 값을 지정함\n",
    "    - scoring : 예측 성능을 측정할 평가 방법을 지정함. 보통은 sklearn의 성능 평가 지표를 지정하는 문자열(예:정확도의 경우 'accuracy')로 지정하나, 별도의 성능 지표 함수도 지정가능\n",
    "    - cv : 교차 검증을 위해 분할되는 학습/테스트 세트의 개수를 지정\n",
    "    - refit : 디폴트가 True, True로 생성 시 가장 최적의 하이퍼 파라미터를 찾은 뒤 입력된 estimator 객체를 해당 하이퍼 파라미터로 재학습시킴  \n",
    "  \n",
    "  \n",
    "- process\n",
    "    1. data 로딩\n",
    "    2. train_test_split으로 train/test data 분리\n",
    "    3. parameter dictionary 생성\n",
    "    4. 학습 데이터 세트를 GridSearchCV 객체의 fit() 메서드에 인자로 입력\n",
    "    5. fit 수행 -> 학습 데이터를 CV에 기술된 폴딩 세트로 분할함 \n",
    "        -> parameter dictionary에 기술된 하이퍼 파라미터를 순차적으로 변경하면서 학습/평가 수행 \n",
    "        -> cv_results에 기록\n",
    "  \n",
    "  \n",
    "- https://scikit-learn.org/stable/modules/generated/sklearn.model_selection.GridSearchCV.html"
   ]
  },
  {
   "cell_type": "code",
   "execution_count": 16,
   "metadata": {},
   "outputs": [],
   "source": [
    "# param_grid의 예시\n",
    "grid_parameters = {'max_depth' : [1,2,3],\n",
    "                   'min_samples_split' : [2,3]\n",
    "                  }"
   ]
  },
  {
   "cell_type": "code",
   "execution_count": 19,
   "metadata": {},
   "outputs": [],
   "source": [
    "from sklearn.datasets import load_iris\n",
    "from sklearn.tree import DecisionTreeClassifier\n",
    "from sklearn.model_selection import train_test_split\n",
    "from sklearn.model_selection import GridSearchCV\n",
    "\n",
    "# 데이터를 로딩하고 train/test data 분리\n",
    "iris = load_iris()\n",
    "X_train, X_test, y_train, y_test = train_test_split(iris_data.data, iris_data.target, \n",
    "                                                    test_size=0.2, random_state=121)\n",
    "dtree = DecisionTreeClassifier()\n",
    "\n",
    "### parameter 들을 dictionary 형태로 설정\n",
    "parameters = {'max_depth':[1,2,3], 'min_samples_split':[2,3]} # 주의 : 1개만 넣더라도 list 형태로, 즉 [1] 이렇게 입력해야 함~!"
   ]
  },
  {
   "cell_type": "code",
   "execution_count": 20,
   "metadata": {},
   "outputs": [
    {
     "data": {
      "text/html": [
       "<div>\n",
       "<style scoped>\n",
       "    .dataframe tbody tr th:only-of-type {\n",
       "        vertical-align: middle;\n",
       "    }\n",
       "\n",
       "    .dataframe tbody tr th {\n",
       "        vertical-align: top;\n",
       "    }\n",
       "\n",
       "    .dataframe thead th {\n",
       "        text-align: right;\n",
       "    }\n",
       "</style>\n",
       "<table border=\"1\" class=\"dataframe\">\n",
       "  <thead>\n",
       "    <tr style=\"text-align: right;\">\n",
       "      <th></th>\n",
       "      <th>params</th>\n",
       "      <th>mean_test_score</th>\n",
       "      <th>rank_test_score</th>\n",
       "      <th>split0_test_score</th>\n",
       "      <th>split1_test_score</th>\n",
       "      <th>split2_test_score</th>\n",
       "    </tr>\n",
       "  </thead>\n",
       "  <tbody>\n",
       "    <tr>\n",
       "      <th>0</th>\n",
       "      <td>{'max_depth': 1, 'min_samples_split': 2}</td>\n",
       "      <td>0.700000</td>\n",
       "      <td>5</td>\n",
       "      <td>0.700</td>\n",
       "      <td>0.7</td>\n",
       "      <td>0.70</td>\n",
       "    </tr>\n",
       "    <tr>\n",
       "      <th>1</th>\n",
       "      <td>{'max_depth': 1, 'min_samples_split': 3}</td>\n",
       "      <td>0.700000</td>\n",
       "      <td>5</td>\n",
       "      <td>0.700</td>\n",
       "      <td>0.7</td>\n",
       "      <td>0.70</td>\n",
       "    </tr>\n",
       "    <tr>\n",
       "      <th>2</th>\n",
       "      <td>{'max_depth': 2, 'min_samples_split': 2}</td>\n",
       "      <td>0.958333</td>\n",
       "      <td>3</td>\n",
       "      <td>0.925</td>\n",
       "      <td>1.0</td>\n",
       "      <td>0.95</td>\n",
       "    </tr>\n",
       "    <tr>\n",
       "      <th>3</th>\n",
       "      <td>{'max_depth': 2, 'min_samples_split': 3}</td>\n",
       "      <td>0.958333</td>\n",
       "      <td>3</td>\n",
       "      <td>0.925</td>\n",
       "      <td>1.0</td>\n",
       "      <td>0.95</td>\n",
       "    </tr>\n",
       "    <tr>\n",
       "      <th>4</th>\n",
       "      <td>{'max_depth': 3, 'min_samples_split': 2}</td>\n",
       "      <td>0.975000</td>\n",
       "      <td>1</td>\n",
       "      <td>0.975</td>\n",
       "      <td>1.0</td>\n",
       "      <td>0.95</td>\n",
       "    </tr>\n",
       "    <tr>\n",
       "      <th>5</th>\n",
       "      <td>{'max_depth': 3, 'min_samples_split': 3}</td>\n",
       "      <td>0.975000</td>\n",
       "      <td>1</td>\n",
       "      <td>0.975</td>\n",
       "      <td>1.0</td>\n",
       "      <td>0.95</td>\n",
       "    </tr>\n",
       "  </tbody>\n",
       "</table>\n",
       "</div>"
      ],
      "text/plain": [
       "                                     params  mean_test_score  rank_test_score  \\\n",
       "0  {'max_depth': 1, 'min_samples_split': 2}         0.700000                5   \n",
       "1  {'max_depth': 1, 'min_samples_split': 3}         0.700000                5   \n",
       "2  {'max_depth': 2, 'min_samples_split': 2}         0.958333                3   \n",
       "3  {'max_depth': 2, 'min_samples_split': 3}         0.958333                3   \n",
       "4  {'max_depth': 3, 'min_samples_split': 2}         0.975000                1   \n",
       "5  {'max_depth': 3, 'min_samples_split': 3}         0.975000                1   \n",
       "\n",
       "   split0_test_score  split1_test_score  split2_test_score  \n",
       "0              0.700                0.7               0.70  \n",
       "1              0.700                0.7               0.70  \n",
       "2              0.925                1.0               0.95  \n",
       "3              0.925                1.0               0.95  \n",
       "4              0.975                1.0               0.95  \n",
       "5              0.975                1.0               0.95  "
      ]
     },
     "execution_count": 20,
     "metadata": {},
     "output_type": "execute_result"
    }
   ],
   "source": [
    "import pandas as pd\n",
    "\n",
    "# param_grid의 하이퍼 파라미터들을 3개의 train, test set fold 로 나누어서 테스트 수행 설정.  \n",
    "### refit=True 가 default 임. True이면 가장 좋은 파라미터 설정으로 재 학습 시킴.  \n",
    "grid_dtree = GridSearchCV(dtree, param_grid=parameters, cv=3, refit=True)\n",
    "\n",
    "# 붓꽃 Train 데이터로 param_grid의 하이퍼 파라미터들을 순차적으로 학습/평가 .\n",
    "grid_dtree.fit(X_train, y_train)\n",
    "\n",
    "# GridSearchCV 결과 추출하여 DataFrame으로 변환\n",
    "scores_df = pd.DataFrame(grid_dtree.cv_results_)\n",
    "scores_df[['params', 'mean_test_score', 'rank_test_score', \\\n",
    "           'split0_test_score', 'split1_test_score', 'split2_test_score']]"
   ]
  },
  {
   "cell_type": "markdown",
   "metadata": {},
   "source": [
    "- cv_results_는 gridsearchcv의 결과 세트로서 dictionary 형태로 key값과 리스트 형태의 value값을 가짐\n",
    "- cv_results_를 pandas의 dataframe으로 변환 시 해석이 용이함\n",
    "  \n",
    "- 칼럼별 의미\n",
    "    - params : 수행할 때마다 적용된 개별 하이퍼 파라미터 값\n",
    "    - mean_test_score : 개별 하이퍼 파라미터별로 CV 폴딩 테스트 세트에 대해 총 수행한 평가 평균값\n",
    "    - rank_test_score : 하이퍼 파라미터별로 성능이 좋은 score순위를 나타냄. 1이 가장 뛰어난 순위, 이때의 파라미터가 최적의 파라미터\n",
    "    - split0_test_score, split1_test_score, split2_test_score : CV가 3인 경우, 즉 3개의 폴딩 세트에서 각각 테스트한 성능 수치  \n",
    "        -> mean_test_score가 이 3개 성능 수치를 평균한 것\n",
    "  \n",
    "  \n",
    "- GridSearchCV 객체의 fit()을 수행   \n",
    "    -> 최고 성능을 나타낸 하이퍼 파라미터 값은 best_params_ 속성에 기록  \n",
    "    -> 그때의 평가 결과값은 best_score_ 속성에 기록됨  \n",
    "    -> (즉, cv_results_의 rank_test_score가 1일 때의 값임)"
   ]
  },
  {
   "cell_type": "code",
   "execution_count": 21,
   "metadata": {},
   "outputs": [
    {
     "name": "stdout",
     "output_type": "stream",
     "text": [
      "GridSearchCV 최적 파라미터: {'max_depth': 3, 'min_samples_split': 2}\n",
      "GridSearchCV 최고 정확도: 0.9750\n"
     ]
    }
   ],
   "source": [
    "# best_params_와 best_score_ 속성을 이용하면 최적 하이퍼 파라미터의 값과 그때의 정확도를 알 수 있음\n",
    "print('GridSearchCV 최적 파라미터:', grid_dtree.best_params_)\n",
    "print('GridSearchCV 최고 정확도: {0:.4f}'.format(grid_dtree.best_score_))\n",
    "\n",
    "# max_depth가 3, min_samples_split이 2일 때, 검증용 폴드 세트에서 평균 최고 정확도가 97.50 %로 기록됨."
   ]
  },
  {
   "cell_type": "code",
   "execution_count": 22,
   "metadata": {},
   "outputs": [
    {
     "name": "stdout",
     "output_type": "stream",
     "text": [
      "테스트 데이터 세트 정확도: 0.9667\n"
     ]
    }
   ],
   "source": [
    "# GridSearchCV 객체의 생성 파라미터로 refit = True가 default임\n",
    "# refit = True면 GridSearchCV가 최적 성능을 나타내는 하이퍼 파라미터로 알아서 Estimator를 학습해 best_estimator_로 저장함\n",
    "\n",
    "# 이미 학습된 best_estimator_를 이용해 앞에서 train_test_split()로 분리한 test data set에 대해 예측하고 성능을 평가해볼 수 있음\n",
    "\n",
    "# GridSearchCV의 refit으로 이미 학습이 된 estimator 반환\n",
    "estimator = grid_dtree.best_estimator_\n",
    "\n",
    "# GridSearchCV의 best_estimator_는 이미 최적 하이퍼 파라미터로 학습이 됨\n",
    "pred = estimator.predict(X_test)\n",
    "print('테스트 데이터 세트 정확도: {0:.4f}'.format(accuracy_score(y_test,pred)))"
   ]
  },
  {
   "cell_type": "markdown",
   "metadata": {},
   "source": [
    "- 일반적으로 train data를 GridSearchCV를 이용해 최적 하이퍼 파라미터 튜닝을 수행한 뒤,\n",
    "- 별도의 test data set에서 이를 평가하는 것이 일반적인 머신러닝 모델 적용 방법임."
   ]
  },
  {
   "cell_type": "markdown",
   "metadata": {},
   "source": [
    "## 05. 데이터 전처리(Data Preprocessing)\n",
    "- ML AL이 data에 기반하므로, 데이터를 어떻게 처리하느냐에 따라 결과가 달라질 수 있음.\n",
    "  \n",
    "- sklearn의 ML AL을 적용하기 전 반드시 해야할 전처리\n",
    "    - 결손값 처리. NaN, Null값은 허용되지 않는다.\n",
    "        - feature값 중 Null 값이 얼마 되지 않음 -> 평균값 등으로 대체\n",
    "        - feature값 중 Null 값이 대부분 -> 해당 feature를 drop하는 것이 좋음\n",
    "    - 문자열\n",
    "        - sklearn의 ML AL은 문자열값을 입력값으로 허용하지 않음\n",
    "        - 모든 문자열 값은 인코딩하여 숫자형으로 변환해야 함\n",
    "        - 문자열 피처 : 카테고리형 피처 / 텍스트형 피처(피처 벡터화로 벡터화 수행하거나 불필요한 경우 삭제)\n",
    "            - ex) 주민번호, 단순 문자열 : 인코딩 하지 않고 삭제하는 것이 Good. 식별자 feature는 단순한 data row를 식별하는 용이고, 예측에는 중요하지 않기 때문."
   ]
  },
  {
   "cell_type": "markdown",
   "metadata": {},
   "source": [
    "### 데이터 인코딩\n",
    "- 대표적인 인코딩 방식 : Label encoding / One Hot encoding\n",
    "- 레이블 인코딩(Label encoding) : category feature를 코드형 숫자값으로 변환하는 것\n",
    "    - 숫자의 크고 작음이 있기에 Tree 계열 AL을 제외하면 가중치가 적용되어 문제가 될 수 있음\n",
    "    - **Label Encoding의 문제점을 해결한 것이 One Hot Encoding임**"
   ]
  },
  {
   "cell_type": "markdown",
   "metadata": {},
   "source": [
    "### Label encoding\n",
    "- 간단하게 문자열 값을 숫자형 카테고리값으로 변환함\n",
    "- 숫자값의 크고 작음이 있기에, 레이블 인코딩을 할 경우 몇몇 ML AL에서는 예측 성능이 떨어질 수 있음. \n",
    "    - 믹서가 2, 냉장고가 1로 인코딩되면 2>1 이므로 가중치가 믹서에 부여될 수 있음. \n",
    "    - 냉장고와 믹서의 숫자 변환 값은 단순 코드지 숫자 값에 따른 순서나 중요도로 인식되어서는 안됨.  \n",
    "        -> 이를 해결하려고 나온 것이 One Hot Encoding\n",
    "    - <u><b>Tree 계열의 ML AL은 숫자의 이러한 특성을 반영하지 않으므로 Label Encoding OK</b></u>\n",
    "  \n",
    "  \n",
    "- sklearn의 label encoding은 LabelEncoder Class로 구현함.\n",
    "- Label Encoder를 객체로 생성한 후 -> fit(), transform()을 호출해 레이블 인코딩을 수행"
   ]
  },
  {
   "cell_type": "code",
   "execution_count": 23,
   "metadata": {},
   "outputs": [
    {
     "name": "stdout",
     "output_type": "stream",
     "text": [
      "인코딩 변환값: [0 1 4 5 3 3 2 2]\n"
     ]
    }
   ],
   "source": [
    "from sklearn.preprocessing import LabelEncoder\n",
    "\n",
    "items=['TV','냉장고','전자렌지','컴퓨터','선풍기','선풍기','믹서','믹서']\n",
    "\n",
    "# LabelEncoder를 객체로 생성한 후 , fit( ) 과 transform( ) 으로 label 인코딩 수행. \n",
    "encoder = LabelEncoder()\n",
    "encoder.fit(items)\n",
    "labels = encoder.transform(items)\n",
    "print('인코딩 변환값:',labels)"
   ]
  },
  {
   "cell_type": "code",
   "execution_count": 24,
   "metadata": {},
   "outputs": [
    {
     "name": "stdout",
     "output_type": "stream",
     "text": [
      "인코딩 클래스: ['TV' '냉장고' '믹서' '선풍기' '전자렌지' '컴퓨터']\n"
     ]
    }
   ],
   "source": [
    "# .classes_ 속성은 0번부터 순서대로 변환된 인코딩 값에 대한 원본값을 가지고 있음 \n",
    "# 따라서 이를 통해 TV가 0, 냉장고 1, 믹서 2, 선풍기 3, 전자레인지 4, 컴퓨터가 5로 인코딩되었음을 알 수 있음. \n",
    "print('인코딩 클래스:',encoder.classes_)"
   ]
  },
  {
   "cell_type": "code",
   "execution_count": 25,
   "metadata": {},
   "outputs": [
    {
     "name": "stdout",
     "output_type": "stream",
     "text": [
      "디코딩 원본 값: ['전자렌지' '컴퓨터' '믹서' 'TV' '냉장고' '냉장고' '선풍기' '선풍기']\n"
     ]
    }
   ],
   "source": [
    "# inverse_transform()을 통해 인코딩된 값을 다시 디코딩할 수 있음 \n",
    "print('디코딩 원본 값:',encoder.inverse_transform([4, 5, 2, 0, 1, 1, 3, 3]))"
   ]
  },
  {
   "cell_type": "markdown",
   "metadata": {},
   "source": [
    "* 원-핫 인코딩(One-Hot encoding)\n",
    "    - feature 값의 유형에 따라 새로운 feature를 추가해 고유 값에 해당하는 column에만 1을 표시, 나머지  column에는 0을 표시하는 방식\n",
    "    - 즉, 행 형태로 되어있는 feature의 고유 값을 열 형태로 차원을 변환함 -> 고유값에 해당하는 column에만 1, 나머지 column에는 0을 표시\n",
    "    - One-Hot Encoding은 sklearn에서 OneHotEncoder Class로 쉽게 변환 가능\n",
    "    - **<u>주의할 점</u>**\n",
    "        1. OneHotEncoder로 변환하기 전에 모든 문자열 값이 숫자형 값으로 변환되어야 함 (LabelEncoder가 선행되는 것임)\n",
    "        2. 입력 값으로 2차원 데이터가 필요함"
   ]
  },
  {
   "cell_type": "code",
   "execution_count": 27,
   "metadata": {},
   "outputs": [
    {
     "name": "stdout",
     "output_type": "stream",
     "text": [
      "원-핫 인코딩 데이터\n",
      "[[1. 0. 0. 0. 0. 0.]\n",
      " [0. 1. 0. 0. 0. 0.]\n",
      " [0. 0. 0. 0. 1. 0.]\n",
      " [0. 0. 0. 0. 0. 1.]\n",
      " [0. 0. 0. 1. 0. 0.]\n",
      " [0. 0. 0. 1. 0. 0.]\n",
      " [0. 0. 1. 0. 0. 0.]\n",
      " [0. 0. 1. 0. 0. 0.]]\n",
      "\n",
      "원-핫 인코딩 데이터 차원\n",
      "(8, 6)\n"
     ]
    }
   ],
   "source": [
    "from sklearn.preprocessing import OneHotEncoder\n",
    "import numpy as np\n",
    "\n",
    "items=['TV','냉장고','전자렌지','컴퓨터','선풍기','선풍기','믹서','믹서']\n",
    "\n",
    "# 먼저 숫자값으로 변환을 위해 LabelEncoder로 변환합니다. \n",
    "encoder = LabelEncoder()\n",
    "encoder.fit(items)\n",
    "labels = encoder.transform(items)\n",
    "\n",
    "# 2차원 데이터로 변환합니다. \n",
    "labels = labels.reshape(-1,1)\n",
    "\n",
    "# 원-핫 인코딩을 적용합니다. \n",
    "oh_encoder = OneHotEncoder()\n",
    "oh_encoder.fit(labels)\n",
    "oh_labels = oh_encoder.transform(labels)\n",
    "print('원-핫 인코딩 데이터')\n",
    "print(oh_labels.toarray())\n",
    "print()\n",
    "print('원-핫 인코딩 데이터 차원')\n",
    "print(oh_labels.shape)"
   ]
  },
  {
   "cell_type": "markdown",
   "metadata": {},
   "source": [
    "### get_dummies = 손쉬운 버전의 One-Hot Encoding\n",
    "- pandas의 get_dummies : One-Hot Encoding을 더 쉽게 제공함\n",
    "- LabelEncoding 과정 거칠 필요 없이 (문자열 카테고리 값을 숫자 형으로 변환할 필요 없이) 바로 사용 가능"
   ]
  },
  {
   "cell_type": "code",
   "execution_count": 5,
   "metadata": {},
   "outputs": [
    {
     "data": {
      "text/html": [
       "<div>\n",
       "<style scoped>\n",
       "    .dataframe tbody tr th:only-of-type {\n",
       "        vertical-align: middle;\n",
       "    }\n",
       "\n",
       "    .dataframe tbody tr th {\n",
       "        vertical-align: top;\n",
       "    }\n",
       "\n",
       "    .dataframe thead th {\n",
       "        text-align: right;\n",
       "    }\n",
       "</style>\n",
       "<table border=\"1\" class=\"dataframe\">\n",
       "  <thead>\n",
       "    <tr style=\"text-align: right;\">\n",
       "      <th></th>\n",
       "      <th>item_TV</th>\n",
       "      <th>item_냉장고</th>\n",
       "      <th>item_믹서</th>\n",
       "      <th>item_선풍기</th>\n",
       "      <th>item_전자렌지</th>\n",
       "      <th>item_컴퓨터</th>\n",
       "    </tr>\n",
       "  </thead>\n",
       "  <tbody>\n",
       "    <tr>\n",
       "      <th>0</th>\n",
       "      <td>1</td>\n",
       "      <td>0</td>\n",
       "      <td>0</td>\n",
       "      <td>0</td>\n",
       "      <td>0</td>\n",
       "      <td>0</td>\n",
       "    </tr>\n",
       "    <tr>\n",
       "      <th>1</th>\n",
       "      <td>0</td>\n",
       "      <td>1</td>\n",
       "      <td>0</td>\n",
       "      <td>0</td>\n",
       "      <td>0</td>\n",
       "      <td>0</td>\n",
       "    </tr>\n",
       "    <tr>\n",
       "      <th>2</th>\n",
       "      <td>0</td>\n",
       "      <td>0</td>\n",
       "      <td>0</td>\n",
       "      <td>0</td>\n",
       "      <td>1</td>\n",
       "      <td>0</td>\n",
       "    </tr>\n",
       "    <tr>\n",
       "      <th>3</th>\n",
       "      <td>0</td>\n",
       "      <td>0</td>\n",
       "      <td>0</td>\n",
       "      <td>0</td>\n",
       "      <td>0</td>\n",
       "      <td>1</td>\n",
       "    </tr>\n",
       "    <tr>\n",
       "      <th>4</th>\n",
       "      <td>0</td>\n",
       "      <td>0</td>\n",
       "      <td>0</td>\n",
       "      <td>1</td>\n",
       "      <td>0</td>\n",
       "      <td>0</td>\n",
       "    </tr>\n",
       "    <tr>\n",
       "      <th>5</th>\n",
       "      <td>0</td>\n",
       "      <td>0</td>\n",
       "      <td>0</td>\n",
       "      <td>1</td>\n",
       "      <td>0</td>\n",
       "      <td>0</td>\n",
       "    </tr>\n",
       "    <tr>\n",
       "      <th>6</th>\n",
       "      <td>0</td>\n",
       "      <td>0</td>\n",
       "      <td>1</td>\n",
       "      <td>0</td>\n",
       "      <td>0</td>\n",
       "      <td>0</td>\n",
       "    </tr>\n",
       "    <tr>\n",
       "      <th>7</th>\n",
       "      <td>0</td>\n",
       "      <td>0</td>\n",
       "      <td>1</td>\n",
       "      <td>0</td>\n",
       "      <td>0</td>\n",
       "      <td>0</td>\n",
       "    </tr>\n",
       "  </tbody>\n",
       "</table>\n",
       "</div>"
      ],
      "text/plain": [
       "   item_TV  item_냉장고  item_믹서  item_선풍기  item_전자렌지  item_컴퓨터\n",
       "0        1         0        0         0          0         0\n",
       "1        0         1        0         0          0         0\n",
       "2        0         0        0         0          1         0\n",
       "3        0         0        0         0          0         1\n",
       "4        0         0        0         1          0         0\n",
       "5        0         0        0         1          0         0\n",
       "6        0         0        1         0          0         0\n",
       "7        0         0        1         0          0         0"
      ]
     },
     "execution_count": 5,
     "metadata": {},
     "output_type": "execute_result"
    }
   ],
   "source": [
    "import pandas as pd\n",
    "\n",
    "df = pd.DataFrame({'item':['TV','냉장고','전자렌지','컴퓨터','선풍기','선풍기','믹서','믹서'] })\n",
    "pd.get_dummies(df)"
   ]
  },
  {
   "cell_type": "markdown",
   "metadata": {},
   "source": [
    "### 피처 스케일링과 정규화"
   ]
  },
  {
   "cell_type": "markdown",
   "metadata": {},
   "source": [
    "* StandardScaler"
   ]
  },
  {
   "cell_type": "code",
   "execution_count": 6,
   "metadata": {},
   "outputs": [
    {
     "name": "stdout",
     "output_type": "stream",
     "text": [
      "feature 들의 평균 값\n",
      "sepal length (cm)    5.843333\n",
      "sepal width (cm)     3.054000\n",
      "petal length (cm)    3.758667\n",
      "petal width (cm)     1.198667\n",
      "dtype: float64\n",
      "\n",
      "feature 들의 분산 값\n",
      "sepal length (cm)    0.685694\n",
      "sepal width (cm)     0.188004\n",
      "petal length (cm)    3.113179\n",
      "petal width (cm)     0.582414\n",
      "dtype: float64\n"
     ]
    }
   ],
   "source": [
    "from sklearn.datasets import load_iris\n",
    "import pandas as pd\n",
    "# 붓꽃 데이터 셋을 로딩하고 DataFrame으로 변환합니다. \n",
    "iris = load_iris()\n",
    "iris_data = iris.data\n",
    "iris_df = pd.DataFrame(data=iris_data, columns=iris.feature_names)\n",
    "\n",
    "print('feature 들의 평균 값')\n",
    "print(iris_df.mean())\n",
    "print('\\nfeature 들의 분산 값')\n",
    "print(iris_df.var())\n"
   ]
  },
  {
   "cell_type": "code",
   "execution_count": 7,
   "metadata": {},
   "outputs": [
    {
     "name": "stdout",
     "output_type": "stream",
     "text": [
      "feature 들의 평균 값\n",
      "sepal length (cm)   -1.690315e-15\n",
      "sepal width (cm)    -1.637024e-15\n",
      "petal length (cm)   -1.482518e-15\n",
      "petal width (cm)    -1.623146e-15\n",
      "dtype: float64\n",
      "\n",
      "feature 들의 분산 값\n",
      "sepal length (cm)    1.006711\n",
      "sepal width (cm)     1.006711\n",
      "petal length (cm)    1.006711\n",
      "petal width (cm)     1.006711\n",
      "dtype: float64\n"
     ]
    }
   ],
   "source": [
    "from sklearn.preprocessing import StandardScaler\n",
    "\n",
    "# StandardScaler객체 생성\n",
    "scaler = StandardScaler()\n",
    "# StandardScaler 로 데이터 셋 변환. fit( ) 과 transform( ) 호출.  \n",
    "scaler.fit(iris_df)\n",
    "iris_scaled = scaler.transform(iris_df)\n",
    "\n",
    "#transform( )시 scale 변환된 데이터 셋이 numpy ndarry로 반환되어 이를 DataFrame으로 변환\n",
    "iris_df_scaled = pd.DataFrame(data=iris_scaled, columns=iris.feature_names)\n",
    "print('feature 들의 평균 값')\n",
    "print(iris_df_scaled.mean())\n",
    "print('\\nfeature 들의 분산 값')\n",
    "print(iris_df_scaled.var())"
   ]
  },
  {
   "cell_type": "markdown",
   "metadata": {},
   "source": [
    "* MinMaxScaler"
   ]
  },
  {
   "cell_type": "code",
   "execution_count": null,
   "metadata": {},
   "outputs": [],
   "source": [
    "from sklearn.preprocessing import MinMaxScaler\n",
    "\n",
    "# MinMaxScaler객체 생성\n",
    "scaler = MinMaxScaler()\n",
    "# MinMaxScaler 로 데이터 셋 변환. fit() 과 transform() 호출.  \n",
    "scaler.fit(iris_df)\n",
    "iris_scaled = scaler.transform(iris_df)\n",
    "\n",
    "# transform()시 scale 변환된 데이터 셋이 numpy ndarry로 반환되어 이를 DataFrame으로 변환\n",
    "iris_df_scaled = pd.DataFrame(data=iris_scaled, columns=iris.feature_names)\n",
    "print('feature들의 최소 값')\n",
    "print(iris_df_scaled.min())\n",
    "print('\\nfeature들의 최대 값')\n",
    "print(iris_df_scaled.max())\n"
   ]
  },
  {
   "cell_type": "markdown",
   "metadata": {},
   "source": [
    "* Scaler를 이용하여 학습 데이터와 테스트 데이터에 fit(), transform(), fit_transform() 적용 시 유의사항. "
   ]
  },
  {
   "cell_type": "code",
   "execution_count": 45,
   "metadata": {},
   "outputs": [],
   "source": [
    "from sklearn.preprocessing import MinMaxScaler\n",
    "import numpy as np\n",
    "\n",
    "# 학습 데이터는 0 부터 10까지, 테스트 데이터는 0 부터 5까지 값을 가지는 데이터 세트로 생성\n",
    "# Scaler클래스의 fit(), transform()은 2차원 이상 데이터만 가능하므로 reshape(-1, 1)로 차원 변경\n",
    "train_array = np.arange(0, 11).reshape(-1, 1)\n",
    "test_array =  np.arange(0, 6).reshape(-1, 1)"
   ]
  },
  {
   "cell_type": "code",
   "execution_count": 41,
   "metadata": {},
   "outputs": [
    {
     "name": "stdout",
     "output_type": "stream",
     "text": [
      "원본 train_array 데이터: [ 0  1  2  3  4  5  6  7  8  9 10]\n",
      "Scale된 train_array 데이터: [0.  0.1 0.2 0.3 0.4 0.5 0.6 0.7 0.8 0.9 1. ]\n"
     ]
    }
   ],
   "source": [
    "# 최소값 0, 최대값 1로 변환하는 MinMaxScaler객체 생성\n",
    "scaler = MinMaxScaler()\n",
    "# fit()하게 되면 train_array 데이터의 최소값이 0, 최대값이 10으로 설정.  \n",
    "scaler.fit(train_array)\n",
    "# 1/10 scale로 train_array 데이터 변환함. 원본 10-> 1로 변환됨.\n",
    "train_scaled = scaler.transform(train_array)\n",
    " \n",
    "print('원본 train_array 데이터:', np.round(train_array.reshape(-1), 2))\n",
    "print('Scale된 train_array 데이터:', np.round(train_scaled.reshape(-1), 2))"
   ]
  },
  {
   "cell_type": "code",
   "execution_count": 38,
   "metadata": {},
   "outputs": [
    {
     "name": "stdout",
     "output_type": "stream",
     "text": [
      "원본 test_array 데이터: [0 1 2 3 4 5]\n",
      "Scale된 test_array 데이터: [0.  0.2 0.4 0.6 0.8 1. ]\n"
     ]
    }
   ],
   "source": [
    "# 앞에서 생성한 MinMaxScaler에 test_array를 fit()하게 되면 원본 데이터의 최소값이 0, 최대값이 5으로 설정됨 \n",
    "scaler.fit(test_array)\n",
    "# 1/5 scale로 test_array 데이터 변환함. 원본 5->1로 변환.  \n",
    "test_scaled = scaler.transform(test_array)\n",
    "# train_array 변환 출력\n",
    "print('원본 test_array 데이터:', np.round(test_array.reshape(-1), 2))\n",
    "print('Scale된 test_array 데이터:', np.round(test_scaled.reshape(-1), 2))\n"
   ]
  },
  {
   "cell_type": "code",
   "execution_count": 46,
   "metadata": {},
   "outputs": [
    {
     "name": "stdout",
     "output_type": "stream",
     "text": [
      "원본 train_array 데이터: [ 0  1  2  3  4  5  6  7  8  9 10]\n",
      "Scale된 train_array 데이터: [0.  0.1 0.2 0.3 0.4 0.5 0.6 0.7 0.8 0.9 1. ]\n",
      "\n",
      "원본 test_array 데이터: [0 1 2 3 4 5]\n",
      "Scale된 test_array 데이터: [0.  0.1 0.2 0.3 0.4 0.5]\n"
     ]
    }
   ],
   "source": [
    "scaler = MinMaxScaler()\n",
    "scaler.fit(train_array)\n",
    "train_scaled = scaler.transform(train_array)\n",
    "print('원본 train_array 데이터:', np.round(train_array.reshape(-1), 2))\n",
    "print('Scale된 train_array 데이터:', np.round(train_scaled.reshape(-1), 2))\n",
    "\n",
    "# test_array에 Scale 변환을 할 때는 반드시 fit()을 호출하지 않고 transform() 만으로 변환해야 함. \n",
    "test_scaled = scaler.transform(test_array)\n",
    "print('\\n원본 test_array 데이터:', np.round(test_array.reshape(-1), 2))\n",
    "print('Scale된 test_array 데이터:', np.round(test_scaled.reshape(-1), 2))\n"
   ]
  }
 ],
 "metadata": {
  "kernelspec": {
   "display_name": "Python 3",
   "language": "python",
   "name": "python3"
  },
  "language_info": {
   "codemirror_mode": {
    "name": "ipython",
    "version": 3
   },
   "file_extension": ".py",
   "mimetype": "text/x-python",
   "name": "python",
   "nbconvert_exporter": "python",
   "pygments_lexer": "ipython3",
   "version": "3.7.4"
  }
 },
 "nbformat": 4,
 "nbformat_minor": 4
}
