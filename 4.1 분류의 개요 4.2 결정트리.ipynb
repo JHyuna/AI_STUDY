{
 "cells": [
  {
   "cell_type": "markdown",
   "metadata": {},
   "source": [
    "분류\n",
    "지도학습은 레이블(Label), 즉 명시적인 정답이 있는 데이터가 주어진 상태에서 학습하는 머신러닝 방식입니다. 지도학습의 대표적인 유형인 분류(Classification)는 학습 데이터로 주어진 데이터의 피처와 레이블값(결정 값, 클래스 값)을 머신러닝 알고리즘으로 학습해 모델을 생성하고, 이렇게 생성된 모델에 새로운 데이터 값이 주어졌을 때 미지의 레이블 값을 예측하는 것입니다. 즉, 기존 데이터가 어떤 레이블에 속하는지 패턴을 알고리즘으로 인지한 뒤에 새롭게 관측된 데이터에 대한 레이블을 판별하는 것입니다."
   ]
  },
  {
   "cell_type": "markdown",
   "metadata": {},
   "source": [
    "베이즈(Bayes) 통계와 생성 모델에 기반한 나이브 베이즈(Naive Bayes)\n",
    "독립변수와 종속변수m의 선형 관계성에 기반한 로지스틱 회귀(Logistic Regression)\n",
    "데이터 균일도에 따른 규칙 기반의 결정 트리(Decision Tree)\n",
    "개별 클래스 간의 최대 분류 마진을 효과적으로 찾아주는 서포터 벡터 머신(Support Vector Machine)\n",
    "근접 거리를 기준으로 하는 최소 근접(Nearest Neighbor) 알고리즘\n",
    "심층 연결 기반의 신경망(Neural Network)\n",
    "서로 다른(또는 같은) 머신러닝 알고리즘을 결합한 앙상블(Ensemble)"
   ]
  },
  {
   "cell_type": "markdown",
   "metadata": {},
   "source": [
    "앙상블 방법\n",
    "앙상블은 분류에서 가장 각광을 받는 방법 중 하나이다. 딥러닝이 머신러닝계를 선두하고 있지만 정형 데이터의 예측 분석 영역에서는 앙상블이 매우 높은 예측 성능으로 인해 많은 분석가와 데이터 과학자들에게 애용됨\n",
    "서로 다른 / 또는 같은 알고리즘을 단순히 결합한 형태도 있으나, 일반적으로는 배깅(Bagging)과 부스팅(Boosting) 방식으로 나뉩니다. 배깅 방식의 대표인 랜덤 포레스트(Random Forest)는 뛰어난 예측 성능, 상대적으로 빠른 수행 시간, 유연성 등으로 많은 분석가가 애용하는 알고리즘\n",
    "근래의 앙상블 방법은 부스팅 방식으로 지속해서 발전, 부스팅의 효시라고 할 수 있는 그래디언트 부스팅(Gradient Boosting)의 경우 뛰어난 예측 성능을 가지고 있지만, 수행 시간이 너무 오래 걸리는 단점으로 최적화 모델 튜닝이 어려웠음\n",
    "하지만 XgBoost(eXtra Gradient Boost)와 LightGBM 등 기존 그래디언트 부스팅의 예측 성능을 한 단계 발전시키면서도 수행 시간을 단축시킨 알고리즘이 계속 등장하면서 정형 데이터의 분류 영역에서 가장 활용도가 높은 알고리즘으로 자리잡음\n",
    "앙상블의 기본 알고리즘으로 일반적으로 사용하는 것은 결정 트리이다. 결정 트리는 매우 쉽고 유연하게 적용될 수 알고리즘. 데이터의 스케일링이나 정규화 등 사전 가공의 영향이 매우 적다. 하지만 에측 성능이 저하될 수도 있다는 단점이 있다. 하지만 이러한 단점이 앙상블 기법에서는 장점으로 작용. 앙상블은 매우 많은 여러개의 약한 학습기를 결합해 확률적 보완과 오류가 발생한 부분에 대한 가중치를 업데이트하면서 예측 성능을 향상시키는데, 결정 트리가 좋은 약한 학습기가 된다."
   ]
  },
  {
   "cell_type": "markdown",
   "metadata": {},
   "source": [
    "결정 트리\n",
    "결정 트리(Decision Tree)는 ML 알고리즘 중 직관적으로 이해하기 쉬운 알고리즘.\n",
    "데이터에 있는 규칙을 학습을 통해 자동을 찾아내 트리(Tree) 기반의 분류 규칙을 만드는 것. 일반적으로 규칙을 가장 쉽게 표현하는 방법은 if/else를 자동으로 찾아내 예측을 위한 규칙을 만드는 알고리즘으로 이해하면 더 쉽게 다가온다. 따라서 데이터의 어떤 기준을 바탕으로 규칙을 만들어야 가장 효율적인 분류가 될 것인가가 알고리즘의 성능을 크게 좌우합니다.\n",
    "규칙 노드(Desicion Node)로 표시된 노드는 규칙 조건이 되는 것이고, 리프 노드(Leaf Node)로 표시된 노드는 결정된 클래스 값. 그리고 새로운 규칙 조건마다 서브 트리(Sub Tree)가 생성. 데이터 세트에 피처가 있고 이러한 피처가 결합해 규칙 조건을 만들 때마다 규칙 노드가 만들어집니다. 하지만 많은 규칙이 있따는 것은 곧 분류를 결정하는 방식이 더욱 복잡해진다는 얘기이고, 이는 곧 과적합으로 이어지기 쉽습니다.\n",
    "즉, 트리 의 깊이(depth)가 깊어질수록 결정 트리의 예측 성능이 저하될 가능성이 높습니다.\n",
    "가능한 한 적은 결정 노드로 높은 예측 정확도를 가지려면 데이터를 분류할 때 최대한 많은 데이터 세트가 해당 분류에 속할 수 있도록 결정 노드의 규칙이 정해져야 합니다. 이를 위해서는 어떻게 트리를 분할(split)할 것인가가 중요한데 최대한 균일한 데이터 세트를 구성할 수 있도록 분할하는 것이 필요함.\n",
    "결정 노드는 정보 균일도가 높은 데이터 세트를 먼저 선택할 수 있도록 규칙 조건을 만듭니다. 즉, 정보 균일도가 데이터 세트로 쪼개질 수 있도록 조건을 찾아 서브 데이터 세트를 만드록, 다시 이 서브 데이터 세트에서 균일도가 높은 자식 데이터 세트 쪼개는 방식을 자식 트리로 내려가면서 반복하는 방식으로 데이터 값을 예측함. \n",
    "예를 들어 박스 안에 30개의 레고 블록이 있는데, 각 레고 블록은 '형태'속성으로 동그라미, 네모, 세모, '색깔' 속성으로 노랑, 빨강, 파랑이 있습니다. 이 중 노랑색 블록의 경우 모두 동그라미로 구성되고, 빨강과 파랑 블록의 경우는 동그라미, 네모 , 세모가 골고루 섞여 있다고 한다면 각 레고 블록의 형태와 색깔 속성으로 분류하고 할 때 가장 첫번째로 만들어져야 하는 규칙 조건은 if 색깔 == '노란색'이 될 것입니다.\n",
    "이러한 정보의 균일도를 측정하는 대표적인 방법은 엔트로피를 이용한 정보 이득(Information Gain) 지수와 지니 계수가 있습니다.\n",
    "결정 트리 알고리즘을 사이킷런에서 구현한 DecisionTreeClassifier는 기본으로 지니 계수를 이용해 데이터 세트를 분할합니다. 결정 트리으 ㅣ일반적인 알고리즘은 데이터 세트를 분할하는 데 가장 좋은 조건, 즉 정보 이득이 높거나 지니 계수가 낮은 조건을 찾아서 자식 트리 노드에 걸쳐 반복적으로 분할한 뒤, 데이터가 모두 특정 분류에 속하게 되면 분할을 멈추고 분류를 결정합니다."
   ]
  },
  {
   "cell_type": "markdown",
   "metadata": {},
   "source": [
    "결정 트리 모델의 특징\n",
    "결정 트리의 가장 큰 장점은 정보의 '균일도'라는 룰을 기반으로 하고 있어서 알고리즘이 쉽고 직관적.\n",
    "결정 트리가 룰이 매우 명확하고, 이에 기반해 어떻게 규칙 노드와 리프 노드가 만들어지는지 알 수 있고, 시각화로 표현까지 할 수 있음. 정보의 균일도만 신경 쓰면 되므로 특별한 경우를 제외하고는 각 피처의 스케일링과 정규화 같은 전처리 작업이 필요 없음. 반면에 결정 트리 모델의 가장 큰 단점은 과적합으로 정확도가 떨어진다는 점입니다. 피치 정보의 균일도에 따른 룰 규칙으로 서브 트리를 계속 만들다 보면 피처가 많고 균일도가 다양하게 존재할수록 트리의 깊이가 커지고 복잡해질 수밖에 없습니다.\n",
    "모든 데이터 상황을 만족하는 완벽한 규칙은 만들지 못하는 경우가 많음에도 결정트리는 학습 데이터 기반 모델의 정확도를 높이기 위해 계속해서 조건을 추가하면서 트리 깊이가 계속 커지고, 결과적으로 복잡한 학습 모델에 이르게 됩니다. 복잡한 학습 모델은 결국에는 실제 상황에 유연하게 대처할 수 없어서 예측 성능이 떨어질 수밖에 없습니다. 모든 데이터 상황을 만족하는 완벽한 규칙은 만들 수 없다고 먼저 인정하는 편이 더 나은 성능을 보장할 수 있습니다. 트리의 크기를 사전에 제한하는 것이 오히려 성능 튜닝에 더 도움이 됩니다.\n",
    "결정 트리의 장점\n",
    "쉽다, 직관적이다. 피어의 스케일리이나 정규화 등의 사전 가공 영향도가 크지 않음\n",
    "결정 트리의 단점\n",
    "과적합으로 알고리즘 성능이 떨어진다. 이를 극복하기 위해 트리의 크기를 사전에 제한하는 튜닝 필요"
   ]
  },
  {
   "cell_type": "markdown",
   "metadata": {},
   "source": [
    "결정 트리 파라미터\n",
    "사이킷런은 결정 트리 알고리즘을 구현한 DecisionTreeClassifier와 DecisionTreeRegressor 클래스. DecisionTreeClassifier는 분류를 위한 클래스이며, DecisionTreeRegressor는 회귀를 위한 클래스. 사이킷런의 결정 트리 구현은 CART(Classification And Regression  Trees)알고리즘 기반입니다. CART는 분류뿐만 아니라 회귀에서도 사용될 수 있는 트리 알고리즘. "
   ]
  },
  {
   "cell_type": "markdown",
   "metadata": {},
   "source": [
    "결정 트리 모델의 시각화\n",
    "결정 트리 알고리즘이 어떠한 규칙을 가지고 트리르 생성하는지 시각적으로 보여줄 수 있는 방법. 바로 Graphviz 패키지를 사용하는 것. Graphviz는 원래 그래프 기반의 dot 파일로 기술된 다양한 이미지를 쉽게 시각화할수 있는 패키지.\n",
    "사이킷런은 이러한 Graphviz 패키지와 쉽게 인터페이스할 수 있도록 export_graphviz() API를 제공합니다. 사이킷런의 export_graphviz()는 함수 인자로 학습이 완료된 Estimator, 피처의 이름 리스트, 레이블 이름 리스트를 입력하면 학습된 결정 트리 규칙을 실제 트리 형태로 시각화해 보여줍니다. 이렇게 결정 트리가 만드는 규칙을 시각화 해보면 결정 트리 알고리즘을 쉽게 이해할 수 있다.\n"
   ]
  },
  {
   "cell_type": "code",
   "execution_count": 1,
   "metadata": {},
   "outputs": [
    {
     "name": "stdout",
     "output_type": "stream",
     "text": [
      "Requirement already satisfied: graphviz in c:\\programdata\\anaconda3\\lib\\site-packages (0.14.2)\n",
      "Note: you may need to restart the kernel to use updated packages.\n"
     ]
    }
   ],
   "source": [
    "pip install graphviz"
   ]
  },
  {
   "cell_type": "markdown",
   "metadata": {},
   "source": [
    "붓꽃 데이터 세트에 결정 트리를 적용할 때 어떻게 서브 트리가 구성되고 만들어지는지 시각화\n",
    "사이킷런은 결정 트리 알고리즘을 구현한 DecisionTreeClassifier를 제공해 결정 트리 모델의 학습과 예측을 수행할 수 있다."
   ]
  },
  {
   "cell_type": "code",
   "execution_count": 2,
   "metadata": {},
   "outputs": [
    {
     "data": {
      "text/plain": [
       "DecisionTreeClassifier(ccp_alpha=0.0, class_weight=None, criterion='gini',\n",
       "                       max_depth=None, max_features=None, max_leaf_nodes=None,\n",
       "                       min_impurity_decrease=0.0, min_impurity_split=None,\n",
       "                       min_samples_leaf=1, min_samples_split=2,\n",
       "                       min_weight_fraction_leaf=0.0, presort='deprecated',\n",
       "                       random_state=156, splitter='best')"
      ]
     },
     "execution_count": 2,
     "metadata": {},
     "output_type": "execute_result"
    }
   ],
   "source": [
    "from sklearn.tree import DecisionTreeClassifier\n",
    "from sklearn.datasets import load_iris\n",
    "from sklearn.model_selection import train_test_split\n",
    "import warnings\n",
    "warnings.filterwarnings('ignore')\n",
    "\n",
    "# DecisionTree Classifier 생성\n",
    "dt_clf = DecisionTreeClassifier(random_state=156)\n",
    "\n",
    "# 붓꽃 데이터를 로딩하고, 학습과 테스트 데이터 세트로 분리\n",
    "iris_data = load_iris()\n",
    "X_train, X_test, y_train, y_test = train_test_split(iris_data.data, iris_data.target, test_size = 0.2, random_state = 11)\n",
    "\n",
    "#DecisionTreeClassifier 학습\n",
    "dt_clf.fit(X_train, y_train)"
   ]
  },
  {
   "cell_type": "markdown",
   "metadata": {},
   "source": [
    "사이킷런의 트리 모듈은 Graphviz를 이용하기 위해 export_graphviz() 함수를 제공합니다. export_graphviz()는 Graphviz가 읽어 들여서 그래프 형태로 시각화할 수 있는 출력 파일을 생성합니다. export_graphviz()에 인자로 학습이 완료된 estimator, output 파일 명 , 결정 클래스의 명칭, 피처의 명칭을 입력해주면 됩니다."
   ]
  },
  {
   "cell_type": "code",
   "execution_count": 3,
   "metadata": {},
   "outputs": [],
   "source": [
    "from sklearn.tree import export_graphviz\n",
    "\n",
    "#export_graphviz() 의 호출 결과로 out_file로 지정된 tree.dot 파일을 생성함.\n",
    "export_graphviz(dt_clf, out_file = \"tree.dot\", class_names = iris_data.target_names, feature_names = iris_data.feature_names, impurity = True, filled = True)"
   ]
  },
  {
   "cell_type": "code",
   "execution_count": 4,
   "metadata": {},
   "outputs": [
    {
     "data": {
      "image/svg+xml": [
       "<?xml version=\"1.0\" encoding=\"UTF-8\" standalone=\"no\"?>\r\n",
       "<!DOCTYPE svg PUBLIC \"-//W3C//DTD SVG 1.1//EN\"\r\n",
       " \"http://www.w3.org/Graphics/SVG/1.1/DTD/svg11.dtd\">\r\n",
       "<!-- Generated by graphviz version 2.38.0 (20140413.2041)\r\n",
       " -->\r\n",
       "<!-- Title: Tree Pages: 1 -->\r\n",
       "<svg width=\"746pt\" height=\"671pt\"\r\n",
       " viewBox=\"0.00 0.00 746.00 671.00\" xmlns=\"http://www.w3.org/2000/svg\" xmlns:xlink=\"http://www.w3.org/1999/xlink\">\r\n",
       "<g id=\"graph0\" class=\"graph\" transform=\"scale(1 1) rotate(0) translate(4 667)\">\r\n",
       "<title>Tree</title>\r\n",
       "<polygon fill=\"white\" stroke=\"none\" points=\"-4,4 -4,-667 742,-667 742,4 -4,4\"/>\r\n",
       "<!-- 0 -->\r\n",
       "<g id=\"node1\" class=\"node\"><title>0</title>\r\n",
       "<polygon fill=\"#fffdfd\" stroke=\"black\" points=\"272,-663 114,-663 114,-580 272,-580 272,-663\"/>\r\n",
       "<text text-anchor=\"middle\" x=\"193\" y=\"-647.8\" font-family=\"Times New Roman,serif\" font-size=\"14.00\">petal length (cm) &lt;= 2.45</text>\r\n",
       "<text text-anchor=\"middle\" x=\"193\" y=\"-632.8\" font-family=\"Times New Roman,serif\" font-size=\"14.00\">gini = 0.667</text>\r\n",
       "<text text-anchor=\"middle\" x=\"193\" y=\"-617.8\" font-family=\"Times New Roman,serif\" font-size=\"14.00\">samples = 120</text>\r\n",
       "<text text-anchor=\"middle\" x=\"193\" y=\"-602.8\" font-family=\"Times New Roman,serif\" font-size=\"14.00\">value = [41, 40, 39]</text>\r\n",
       "<text text-anchor=\"middle\" x=\"193\" y=\"-587.8\" font-family=\"Times New Roman,serif\" font-size=\"14.00\">class = setosa</text>\r\n",
       "</g>\r\n",
       "<!-- 1 -->\r\n",
       "<g id=\"node2\" class=\"node\"><title>1</title>\r\n",
       "<polygon fill=\"#e58139\" stroke=\"black\" points=\"173,-536.5 61,-536.5 61,-468.5 173,-468.5 173,-536.5\"/>\r\n",
       "<text text-anchor=\"middle\" x=\"117\" y=\"-521.3\" font-family=\"Times New Roman,serif\" font-size=\"14.00\">gini = 0.0</text>\r\n",
       "<text text-anchor=\"middle\" x=\"117\" y=\"-506.3\" font-family=\"Times New Roman,serif\" font-size=\"14.00\">samples = 41</text>\r\n",
       "<text text-anchor=\"middle\" x=\"117\" y=\"-491.3\" font-family=\"Times New Roman,serif\" font-size=\"14.00\">value = [41, 0, 0]</text>\r\n",
       "<text text-anchor=\"middle\" x=\"117\" y=\"-476.3\" font-family=\"Times New Roman,serif\" font-size=\"14.00\">class = setosa</text>\r\n",
       "</g>\r\n",
       "<!-- 0&#45;&gt;1 -->\r\n",
       "<g id=\"edge1\" class=\"edge\"><title>0&#45;&gt;1</title>\r\n",
       "<path fill=\"none\" stroke=\"black\" d=\"M166.632,-579.907C159.321,-568.652 151.374,-556.418 144.026,-545.106\"/>\r\n",
       "<polygon fill=\"black\" stroke=\"black\" points=\"146.927,-543.146 138.544,-536.667 141.057,-546.96 146.927,-543.146\"/>\r\n",
       "<text text-anchor=\"middle\" x=\"133.349\" y=\"-557.421\" font-family=\"Times New Roman,serif\" font-size=\"14.00\">True</text>\r\n",
       "</g>\r\n",
       "<!-- 2 -->\r\n",
       "<g id=\"node3\" class=\"node\"><title>2</title>\r\n",
       "<polygon fill=\"#fafefc\" stroke=\"black\" points=\"346.5,-544 191.5,-544 191.5,-461 346.5,-461 346.5,-544\"/>\r\n",
       "<text text-anchor=\"middle\" x=\"269\" y=\"-528.8\" font-family=\"Times New Roman,serif\" font-size=\"14.00\">petal width (cm) &lt;= 1.55</text>\r\n",
       "<text text-anchor=\"middle\" x=\"269\" y=\"-513.8\" font-family=\"Times New Roman,serif\" font-size=\"14.00\">gini = 0.5</text>\r\n",
       "<text text-anchor=\"middle\" x=\"269\" y=\"-498.8\" font-family=\"Times New Roman,serif\" font-size=\"14.00\">samples = 79</text>\r\n",
       "<text text-anchor=\"middle\" x=\"269\" y=\"-483.8\" font-family=\"Times New Roman,serif\" font-size=\"14.00\">value = [0, 40, 39]</text>\r\n",
       "<text text-anchor=\"middle\" x=\"269\" y=\"-468.8\" font-family=\"Times New Roman,serif\" font-size=\"14.00\">class = versicolor</text>\r\n",
       "</g>\r\n",
       "<!-- 0&#45;&gt;2 -->\r\n",
       "<g id=\"edge2\" class=\"edge\"><title>0&#45;&gt;2</title>\r\n",
       "<path fill=\"none\" stroke=\"black\" d=\"M219.368,-579.907C225.086,-571.105 231.193,-561.703 237.098,-552.612\"/>\r\n",
       "<polygon fill=\"black\" stroke=\"black\" points=\"240.167,-554.313 242.679,-544.021 234.296,-550.5 240.167,-554.313\"/>\r\n",
       "<text text-anchor=\"middle\" x=\"247.874\" y=\"-564.775\" font-family=\"Times New Roman,serif\" font-size=\"14.00\">False</text>\r\n",
       "</g>\r\n",
       "<!-- 3 -->\r\n",
       "<g id=\"node4\" class=\"node\"><title>3</title>\r\n",
       "<polygon fill=\"#3ee684\" stroke=\"black\" points=\"261,-425 103,-425 103,-342 261,-342 261,-425\"/>\r\n",
       "<text text-anchor=\"middle\" x=\"182\" y=\"-409.8\" font-family=\"Times New Roman,serif\" font-size=\"14.00\">petal length (cm) &lt;= 5.25</text>\r\n",
       "<text text-anchor=\"middle\" x=\"182\" y=\"-394.8\" font-family=\"Times New Roman,serif\" font-size=\"14.00\">gini = 0.051</text>\r\n",
       "<text text-anchor=\"middle\" x=\"182\" y=\"-379.8\" font-family=\"Times New Roman,serif\" font-size=\"14.00\">samples = 38</text>\r\n",
       "<text text-anchor=\"middle\" x=\"182\" y=\"-364.8\" font-family=\"Times New Roman,serif\" font-size=\"14.00\">value = [0, 37, 1]</text>\r\n",
       "<text text-anchor=\"middle\" x=\"182\" y=\"-349.8\" font-family=\"Times New Roman,serif\" font-size=\"14.00\">class = versicolor</text>\r\n",
       "</g>\r\n",
       "<!-- 2&#45;&gt;3 -->\r\n",
       "<g id=\"edge3\" class=\"edge\"><title>2&#45;&gt;3</title>\r\n",
       "<path fill=\"none\" stroke=\"black\" d=\"M238.816,-460.907C232.135,-451.923 224.991,-442.315 218.101,-433.05\"/>\r\n",
       "<polygon fill=\"black\" stroke=\"black\" points=\"220.907,-430.957 212.131,-425.021 215.289,-435.134 220.907,-430.957\"/>\r\n",
       "</g>\r\n",
       "<!-- 6 -->\r\n",
       "<g id=\"node7\" class=\"node\"><title>6</title>\r\n",
       "<polygon fill=\"#8b49e7\" stroke=\"black\" points=\"434.5,-425 279.5,-425 279.5,-342 434.5,-342 434.5,-425\"/>\r\n",
       "<text text-anchor=\"middle\" x=\"357\" y=\"-409.8\" font-family=\"Times New Roman,serif\" font-size=\"14.00\">petal width (cm) &lt;= 1.75</text>\r\n",
       "<text text-anchor=\"middle\" x=\"357\" y=\"-394.8\" font-family=\"Times New Roman,serif\" font-size=\"14.00\">gini = 0.136</text>\r\n",
       "<text text-anchor=\"middle\" x=\"357\" y=\"-379.8\" font-family=\"Times New Roman,serif\" font-size=\"14.00\">samples = 41</text>\r\n",
       "<text text-anchor=\"middle\" x=\"357\" y=\"-364.8\" font-family=\"Times New Roman,serif\" font-size=\"14.00\">value = [0, 3, 38]</text>\r\n",
       "<text text-anchor=\"middle\" x=\"357\" y=\"-349.8\" font-family=\"Times New Roman,serif\" font-size=\"14.00\">class = virginica</text>\r\n",
       "</g>\r\n",
       "<!-- 2&#45;&gt;6 -->\r\n",
       "<g id=\"edge6\" class=\"edge\"><title>2&#45;&gt;6</title>\r\n",
       "<path fill=\"none\" stroke=\"black\" d=\"M299.531,-460.907C306.289,-451.923 313.515,-442.315 320.484,-433.05\"/>\r\n",
       "<polygon fill=\"black\" stroke=\"black\" points=\"323.309,-435.116 326.523,-425.021 317.715,-430.909 323.309,-435.116\"/>\r\n",
       "</g>\r\n",
       "<!-- 4 -->\r\n",
       "<g id=\"node5\" class=\"node\"><title>4</title>\r\n",
       "<polygon fill=\"#39e581\" stroke=\"black\" points=\"116,-298.5 0,-298.5 0,-230.5 116,-230.5 116,-298.5\"/>\r\n",
       "<text text-anchor=\"middle\" x=\"58\" y=\"-283.3\" font-family=\"Times New Roman,serif\" font-size=\"14.00\">gini = 0.0</text>\r\n",
       "<text text-anchor=\"middle\" x=\"58\" y=\"-268.3\" font-family=\"Times New Roman,serif\" font-size=\"14.00\">samples = 37</text>\r\n",
       "<text text-anchor=\"middle\" x=\"58\" y=\"-253.3\" font-family=\"Times New Roman,serif\" font-size=\"14.00\">value = [0, 37, 0]</text>\r\n",
       "<text text-anchor=\"middle\" x=\"58\" y=\"-238.3\" font-family=\"Times New Roman,serif\" font-size=\"14.00\">class = versicolor</text>\r\n",
       "</g>\r\n",
       "<!-- 3&#45;&gt;4 -->\r\n",
       "<g id=\"edge4\" class=\"edge\"><title>3&#45;&gt;4</title>\r\n",
       "<path fill=\"none\" stroke=\"black\" d=\"M138.979,-341.907C126.582,-330.211 113.066,-317.457 100.69,-305.78\"/>\r\n",
       "<polygon fill=\"black\" stroke=\"black\" points=\"102.827,-302.984 93.1513,-298.667 98.0227,-308.075 102.827,-302.984\"/>\r\n",
       "</g>\r\n",
       "<!-- 5 -->\r\n",
       "<g id=\"node6\" class=\"node\"><title>5</title>\r\n",
       "<polygon fill=\"#8139e5\" stroke=\"black\" points=\"241.5,-298.5 134.5,-298.5 134.5,-230.5 241.5,-230.5 241.5,-298.5\"/>\r\n",
       "<text text-anchor=\"middle\" x=\"188\" y=\"-283.3\" font-family=\"Times New Roman,serif\" font-size=\"14.00\">gini = 0.0</text>\r\n",
       "<text text-anchor=\"middle\" x=\"188\" y=\"-268.3\" font-family=\"Times New Roman,serif\" font-size=\"14.00\">samples = 1</text>\r\n",
       "<text text-anchor=\"middle\" x=\"188\" y=\"-253.3\" font-family=\"Times New Roman,serif\" font-size=\"14.00\">value = [0, 0, 1]</text>\r\n",
       "<text text-anchor=\"middle\" x=\"188\" y=\"-238.3\" font-family=\"Times New Roman,serif\" font-size=\"14.00\">class = virginica</text>\r\n",
       "</g>\r\n",
       "<!-- 3&#45;&gt;5 -->\r\n",
       "<g id=\"edge5\" class=\"edge\"><title>3&#45;&gt;5</title>\r\n",
       "<path fill=\"none\" stroke=\"black\" d=\"M184.082,-341.907C184.631,-331.204 185.225,-319.615 185.781,-308.776\"/>\r\n",
       "<polygon fill=\"black\" stroke=\"black\" points=\"189.282,-308.833 186.299,-298.667 182.291,-308.475 189.282,-308.833\"/>\r\n",
       "</g>\r\n",
       "<!-- 7 -->\r\n",
       "<g id=\"node8\" class=\"node\"><title>7</title>\r\n",
       "<polygon fill=\"#ffffff\" stroke=\"black\" points=\"431,-306 271,-306 271,-223 431,-223 431,-306\"/>\r\n",
       "<text text-anchor=\"middle\" x=\"351\" y=\"-290.8\" font-family=\"Times New Roman,serif\" font-size=\"14.00\">sepal length (cm) &lt;= 5.45</text>\r\n",
       "<text text-anchor=\"middle\" x=\"351\" y=\"-275.8\" font-family=\"Times New Roman,serif\" font-size=\"14.00\">gini = 0.5</text>\r\n",
       "<text text-anchor=\"middle\" x=\"351\" y=\"-260.8\" font-family=\"Times New Roman,serif\" font-size=\"14.00\">samples = 4</text>\r\n",
       "<text text-anchor=\"middle\" x=\"351\" y=\"-245.8\" font-family=\"Times New Roman,serif\" font-size=\"14.00\">value = [0, 2, 2]</text>\r\n",
       "<text text-anchor=\"middle\" x=\"351\" y=\"-230.8\" font-family=\"Times New Roman,serif\" font-size=\"14.00\">class = versicolor</text>\r\n",
       "</g>\r\n",
       "<!-- 6&#45;&gt;7 -->\r\n",
       "<g id=\"edge7\" class=\"edge\"><title>6&#45;&gt;7</title>\r\n",
       "<path fill=\"none\" stroke=\"black\" d=\"M354.918,-341.907C354.49,-333.558 354.034,-324.671 353.591,-316.02\"/>\r\n",
       "<polygon fill=\"black\" stroke=\"black\" points=\"357.086,-315.828 353.078,-306.021 350.095,-316.187 357.086,-315.828\"/>\r\n",
       "</g>\r\n",
       "<!-- 12 -->\r\n",
       "<g id=\"node13\" class=\"node\"><title>12</title>\r\n",
       "<polygon fill=\"#843ee6\" stroke=\"black\" points=\"607,-306 449,-306 449,-223 607,-223 607,-306\"/>\r\n",
       "<text text-anchor=\"middle\" x=\"528\" y=\"-290.8\" font-family=\"Times New Roman,serif\" font-size=\"14.00\">petal length (cm) &lt;= 4.85</text>\r\n",
       "<text text-anchor=\"middle\" x=\"528\" y=\"-275.8\" font-family=\"Times New Roman,serif\" font-size=\"14.00\">gini = 0.053</text>\r\n",
       "<text text-anchor=\"middle\" x=\"528\" y=\"-260.8\" font-family=\"Times New Roman,serif\" font-size=\"14.00\">samples = 37</text>\r\n",
       "<text text-anchor=\"middle\" x=\"528\" y=\"-245.8\" font-family=\"Times New Roman,serif\" font-size=\"14.00\">value = [0, 1, 36]</text>\r\n",
       "<text text-anchor=\"middle\" x=\"528\" y=\"-230.8\" font-family=\"Times New Roman,serif\" font-size=\"14.00\">class = virginica</text>\r\n",
       "</g>\r\n",
       "<!-- 6&#45;&gt;12 -->\r\n",
       "<g id=\"edge12\" class=\"edge\"><title>6&#45;&gt;12</title>\r\n",
       "<path fill=\"none\" stroke=\"black\" d=\"M416.328,-341.907C430.52,-332.197 445.776,-321.758 460.314,-311.811\"/>\r\n",
       "<polygon fill=\"black\" stroke=\"black\" points=\"462.501,-314.556 468.777,-306.021 458.548,-308.779 462.501,-314.556\"/>\r\n",
       "</g>\r\n",
       "<!-- 8 -->\r\n",
       "<g id=\"node9\" class=\"node\"><title>8</title>\r\n",
       "<polygon fill=\"#8139e5\" stroke=\"black\" points=\"253.5,-179.5 146.5,-179.5 146.5,-111.5 253.5,-111.5 253.5,-179.5\"/>\r\n",
       "<text text-anchor=\"middle\" x=\"200\" y=\"-164.3\" font-family=\"Times New Roman,serif\" font-size=\"14.00\">gini = 0.0</text>\r\n",
       "<text text-anchor=\"middle\" x=\"200\" y=\"-149.3\" font-family=\"Times New Roman,serif\" font-size=\"14.00\">samples = 1</text>\r\n",
       "<text text-anchor=\"middle\" x=\"200\" y=\"-134.3\" font-family=\"Times New Roman,serif\" font-size=\"14.00\">value = [0, 0, 1]</text>\r\n",
       "<text text-anchor=\"middle\" x=\"200\" y=\"-119.3\" font-family=\"Times New Roman,serif\" font-size=\"14.00\">class = virginica</text>\r\n",
       "</g>\r\n",
       "<!-- 7&#45;&gt;8 -->\r\n",
       "<g id=\"edge8\" class=\"edge\"><title>7&#45;&gt;8</title>\r\n",
       "<path fill=\"none\" stroke=\"black\" d=\"M298.611,-222.907C283.231,-210.99 266.434,-197.976 251.133,-186.12\"/>\r\n",
       "<polygon fill=\"black\" stroke=\"black\" points=\"252.854,-183.025 242.805,-179.667 248.566,-188.559 252.854,-183.025\"/>\r\n",
       "</g>\r\n",
       "<!-- 9 -->\r\n",
       "<g id=\"node10\" class=\"node\"><title>9</title>\r\n",
       "<polygon fill=\"#9cf2c0\" stroke=\"black\" points=\"430,-187 272,-187 272,-104 430,-104 430,-187\"/>\r\n",
       "<text text-anchor=\"middle\" x=\"351\" y=\"-171.8\" font-family=\"Times New Roman,serif\" font-size=\"14.00\">petal length (cm) &lt;= 5.45</text>\r\n",
       "<text text-anchor=\"middle\" x=\"351\" y=\"-156.8\" font-family=\"Times New Roman,serif\" font-size=\"14.00\">gini = 0.444</text>\r\n",
       "<text text-anchor=\"middle\" x=\"351\" y=\"-141.8\" font-family=\"Times New Roman,serif\" font-size=\"14.00\">samples = 3</text>\r\n",
       "<text text-anchor=\"middle\" x=\"351\" y=\"-126.8\" font-family=\"Times New Roman,serif\" font-size=\"14.00\">value = [0, 2, 1]</text>\r\n",
       "<text text-anchor=\"middle\" x=\"351\" y=\"-111.8\" font-family=\"Times New Roman,serif\" font-size=\"14.00\">class = versicolor</text>\r\n",
       "</g>\r\n",
       "<!-- 7&#45;&gt;9 -->\r\n",
       "<g id=\"edge9\" class=\"edge\"><title>7&#45;&gt;9</title>\r\n",
       "<path fill=\"none\" stroke=\"black\" d=\"M351,-222.907C351,-214.649 351,-205.864 351,-197.302\"/>\r\n",
       "<polygon fill=\"black\" stroke=\"black\" points=\"354.5,-197.021 351,-187.021 347.5,-197.021 354.5,-197.021\"/>\r\n",
       "</g>\r\n",
       "<!-- 10 -->\r\n",
       "<g id=\"node11\" class=\"node\"><title>10</title>\r\n",
       "<polygon fill=\"#39e581\" stroke=\"black\" points=\"291,-68 175,-68 175,-0 291,-0 291,-68\"/>\r\n",
       "<text text-anchor=\"middle\" x=\"233\" y=\"-52.8\" font-family=\"Times New Roman,serif\" font-size=\"14.00\">gini = 0.0</text>\r\n",
       "<text text-anchor=\"middle\" x=\"233\" y=\"-37.8\" font-family=\"Times New Roman,serif\" font-size=\"14.00\">samples = 2</text>\r\n",
       "<text text-anchor=\"middle\" x=\"233\" y=\"-22.8\" font-family=\"Times New Roman,serif\" font-size=\"14.00\">value = [0, 2, 0]</text>\r\n",
       "<text text-anchor=\"middle\" x=\"233\" y=\"-7.8\" font-family=\"Times New Roman,serif\" font-size=\"14.00\">class = versicolor</text>\r\n",
       "</g>\r\n",
       "<!-- 9&#45;&gt;10 -->\r\n",
       "<g id=\"edge10\" class=\"edge\"><title>9&#45;&gt;10</title>\r\n",
       "<path fill=\"none\" stroke=\"black\" d=\"M307.061,-103.726C297.036,-94.423 286.389,-84.5428 276.386,-75.2612\"/>\r\n",
       "<polygon fill=\"black\" stroke=\"black\" points=\"278.595,-72.5362 268.884,-68.2996 273.834,-77.6673 278.595,-72.5362\"/>\r\n",
       "</g>\r\n",
       "<!-- 11 -->\r\n",
       "<g id=\"node12\" class=\"node\"><title>11</title>\r\n",
       "<polygon fill=\"#8139e5\" stroke=\"black\" points=\"416.5,-68 309.5,-68 309.5,-0 416.5,-0 416.5,-68\"/>\r\n",
       "<text text-anchor=\"middle\" x=\"363\" y=\"-52.8\" font-family=\"Times New Roman,serif\" font-size=\"14.00\">gini = 0.0</text>\r\n",
       "<text text-anchor=\"middle\" x=\"363\" y=\"-37.8\" font-family=\"Times New Roman,serif\" font-size=\"14.00\">samples = 1</text>\r\n",
       "<text text-anchor=\"middle\" x=\"363\" y=\"-22.8\" font-family=\"Times New Roman,serif\" font-size=\"14.00\">value = [0, 0, 1]</text>\r\n",
       "<text text-anchor=\"middle\" x=\"363\" y=\"-7.8\" font-family=\"Times New Roman,serif\" font-size=\"14.00\">class = virginica</text>\r\n",
       "</g>\r\n",
       "<!-- 9&#45;&gt;11 -->\r\n",
       "<g id=\"edge11\" class=\"edge\"><title>9&#45;&gt;11</title>\r\n",
       "<path fill=\"none\" stroke=\"black\" d=\"M355.468,-103.726C356.378,-95.4263 357.338,-86.6671 358.257,-78.2834\"/>\r\n",
       "<polygon fill=\"black\" stroke=\"black\" points=\"361.74,-78.6214 359.351,-68.2996 354.782,-77.8588 361.74,-78.6214\"/>\r\n",
       "</g>\r\n",
       "<!-- 13 -->\r\n",
       "<g id=\"node14\" class=\"node\"><title>13</title>\r\n",
       "<polygon fill=\"#c09cf2\" stroke=\"black\" points=\"608,-187 448,-187 448,-104 608,-104 608,-187\"/>\r\n",
       "<text text-anchor=\"middle\" x=\"528\" y=\"-171.8\" font-family=\"Times New Roman,serif\" font-size=\"14.00\">sepal length (cm) &lt;= 5.95</text>\r\n",
       "<text text-anchor=\"middle\" x=\"528\" y=\"-156.8\" font-family=\"Times New Roman,serif\" font-size=\"14.00\">gini = 0.444</text>\r\n",
       "<text text-anchor=\"middle\" x=\"528\" y=\"-141.8\" font-family=\"Times New Roman,serif\" font-size=\"14.00\">samples = 3</text>\r\n",
       "<text text-anchor=\"middle\" x=\"528\" y=\"-126.8\" font-family=\"Times New Roman,serif\" font-size=\"14.00\">value = [0, 1, 2]</text>\r\n",
       "<text text-anchor=\"middle\" x=\"528\" y=\"-111.8\" font-family=\"Times New Roman,serif\" font-size=\"14.00\">class = virginica</text>\r\n",
       "</g>\r\n",
       "<!-- 12&#45;&gt;13 -->\r\n",
       "<g id=\"edge13\" class=\"edge\"><title>12&#45;&gt;13</title>\r\n",
       "<path fill=\"none\" stroke=\"black\" d=\"M528,-222.907C528,-214.649 528,-205.864 528,-197.302\"/>\r\n",
       "<polygon fill=\"black\" stroke=\"black\" points=\"531.5,-197.021 528,-187.021 524.5,-197.021 531.5,-197.021\"/>\r\n",
       "</g>\r\n",
       "<!-- 16 -->\r\n",
       "<g id=\"node17\" class=\"node\"><title>16</title>\r\n",
       "<polygon fill=\"#8139e5\" stroke=\"black\" points=\"738,-179.5 626,-179.5 626,-111.5 738,-111.5 738,-179.5\"/>\r\n",
       "<text text-anchor=\"middle\" x=\"682\" y=\"-164.3\" font-family=\"Times New Roman,serif\" font-size=\"14.00\">gini = 0.0</text>\r\n",
       "<text text-anchor=\"middle\" x=\"682\" y=\"-149.3\" font-family=\"Times New Roman,serif\" font-size=\"14.00\">samples = 34</text>\r\n",
       "<text text-anchor=\"middle\" x=\"682\" y=\"-134.3\" font-family=\"Times New Roman,serif\" font-size=\"14.00\">value = [0, 0, 34]</text>\r\n",
       "<text text-anchor=\"middle\" x=\"682\" y=\"-119.3\" font-family=\"Times New Roman,serif\" font-size=\"14.00\">class = virginica</text>\r\n",
       "</g>\r\n",
       "<!-- 12&#45;&gt;16 -->\r\n",
       "<g id=\"edge16\" class=\"edge\"><title>12&#45;&gt;16</title>\r\n",
       "<path fill=\"none\" stroke=\"black\" d=\"M581.43,-222.907C597.261,-210.88 614.563,-197.735 630.284,-185.791\"/>\r\n",
       "<polygon fill=\"black\" stroke=\"black\" points=\"632.499,-188.503 638.344,-179.667 628.264,-182.93 632.499,-188.503\"/>\r\n",
       "</g>\r\n",
       "<!-- 14 -->\r\n",
       "<g id=\"node15\" class=\"node\"><title>14</title>\r\n",
       "<polygon fill=\"#39e581\" stroke=\"black\" points=\"574,-68 458,-68 458,-0 574,-0 574,-68\"/>\r\n",
       "<text text-anchor=\"middle\" x=\"516\" y=\"-52.8\" font-family=\"Times New Roman,serif\" font-size=\"14.00\">gini = 0.0</text>\r\n",
       "<text text-anchor=\"middle\" x=\"516\" y=\"-37.8\" font-family=\"Times New Roman,serif\" font-size=\"14.00\">samples = 1</text>\r\n",
       "<text text-anchor=\"middle\" x=\"516\" y=\"-22.8\" font-family=\"Times New Roman,serif\" font-size=\"14.00\">value = [0, 1, 0]</text>\r\n",
       "<text text-anchor=\"middle\" x=\"516\" y=\"-7.8\" font-family=\"Times New Roman,serif\" font-size=\"14.00\">class = versicolor</text>\r\n",
       "</g>\r\n",
       "<!-- 13&#45;&gt;14 -->\r\n",
       "<g id=\"edge14\" class=\"edge\"><title>13&#45;&gt;14</title>\r\n",
       "<path fill=\"none\" stroke=\"black\" d=\"M523.532,-103.726C522.622,-95.4263 521.662,-86.6671 520.743,-78.2834\"/>\r\n",
       "<polygon fill=\"black\" stroke=\"black\" points=\"524.218,-77.8588 519.649,-68.2996 517.26,-78.6214 524.218,-77.8588\"/>\r\n",
       "</g>\r\n",
       "<!-- 15 -->\r\n",
       "<g id=\"node16\" class=\"node\"><title>15</title>\r\n",
       "<polygon fill=\"#8139e5\" stroke=\"black\" points=\"699.5,-68 592.5,-68 592.5,-0 699.5,-0 699.5,-68\"/>\r\n",
       "<text text-anchor=\"middle\" x=\"646\" y=\"-52.8\" font-family=\"Times New Roman,serif\" font-size=\"14.00\">gini = 0.0</text>\r\n",
       "<text text-anchor=\"middle\" x=\"646\" y=\"-37.8\" font-family=\"Times New Roman,serif\" font-size=\"14.00\">samples = 2</text>\r\n",
       "<text text-anchor=\"middle\" x=\"646\" y=\"-22.8\" font-family=\"Times New Roman,serif\" font-size=\"14.00\">value = [0, 0, 2]</text>\r\n",
       "<text text-anchor=\"middle\" x=\"646\" y=\"-7.8\" font-family=\"Times New Roman,serif\" font-size=\"14.00\">class = virginica</text>\r\n",
       "</g>\r\n",
       "<!-- 13&#45;&gt;15 -->\r\n",
       "<g id=\"edge15\" class=\"edge\"><title>13&#45;&gt;15</title>\r\n",
       "<path fill=\"none\" stroke=\"black\" d=\"M571.939,-103.726C581.964,-94.423 592.611,-84.5428 602.614,-75.2612\"/>\r\n",
       "<polygon fill=\"black\" stroke=\"black\" points=\"605.166,-77.6673 610.116,-68.2996 600.405,-72.5362 605.166,-77.6673\"/>\r\n",
       "</g>\r\n",
       "</g>\r\n",
       "</svg>\r\n"
      ],
      "text/plain": [
       "<graphviz.files.Source at 0x91f5148>"
      ]
     },
     "execution_count": 4,
     "metadata": {},
     "output_type": "execute_result"
    }
   ],
   "source": [
    "import graphviz\n",
    "# 위에서 생성된 tree.dot 파일을 Graphviz가 읽어서 주피터 노트북상에서 시각화\n",
    "with open(\"tree.dot\") as f:\n",
    "    dot_graph = f.read()\n",
    "graphviz.Source(dot_graph)"
   ]
  },
  {
   "cell_type": "markdown",
   "metadata": {},
   "source": [
    "출력된 결과를 보면 각 규칙에 따라 트리의 브랜치(branch) 노드와 말단 리프(leaf) 노드가 어떻게 구성되어있는지 한눈에 알 수 있게 시각화됨\n",
    "자식이 없는 노드는 리프 노드. 리프 노드는 최종 클래스(레이블) 값이 결정되는 노드. 리프 노드가 되려면 오직 하나의 클래스 값으로 최종 데이터가 구성되거나 리프노드가 될 수 있는 하이퍼 파라미터 조건을 충족하면 된다. 자식 노드가 잇는 노드는 브랜치 노드이며 자식 노드를 만들기 위한 분할 규칙 조건을 가지고 있습니다.\n",
    "\n",
    "petal length(cm) <= 2.45와 같이 피처의 조건이 있는 것은 자식 노드를 만들기 위한 조건입니다. 이 조건이 없으면 리프 노드\n",
    "gini는 다음의 vlaue=[]로 주어진 데이터 분포에서의 지니 계수\n",
    "samples는 현 규칙에 해당하는 데이터 건수입니다.\n",
    "value = []는 클래스 값 기반의 데이터 건수. 붓꽃 데이터 세트는 클래스 값으로 0,1,2를 가지고 있으며, 0: Setosa, 1:Versicolor, 2:virginica품종을 가리킵니다. 만일 Value = [40,40,39]라면 클래스 값의 순서로 Setosa 41개 , Vesicolor 40개, Virginica 39개로 데이터가 구성돼어 있음"
   ]
  },
  {
   "cell_type": "markdown",
   "metadata": {},
   "source": [
    "붓꽃 데이터 세트에서 피처별로 결정 트리 알고리즘에서 중요도를 추출\n",
    "fit()으로 학습된 DecisionTreeClassifier 객체 변수인 df_clf에서 feature_importances_ 속성을 가져와 피쳐별로 중요도 값을 매핑하고 이를 막대그래프로 표현해 보겠습니다."
   ]
  },
  {
   "cell_type": "code",
   "execution_count": 5,
   "metadata": {},
   "outputs": [
    {
     "name": "stdout",
     "output_type": "stream",
     "text": [
      "Feature importnaces:\n",
      "[0.025 0.    0.555 0.42 ]\n",
      "sepal length (cm) : 0.025\n",
      "sepal width (cm) : 0.000\n",
      "petal length (cm) : 0.555\n",
      "petal width (cm) : 0.420\n"
     ]
    },
    {
     "data": {
      "text/plain": [
       "<matplotlib.axes._subplots.AxesSubplot at 0xa534e48>"
      ]
     },
     "execution_count": 5,
     "metadata": {},
     "output_type": "execute_result"
    },
    {
     "data": {
      "image/png": "[encoded data removed]",
      "text/plain": [
       "<Figure size 432x288 with 1 Axes>"
      ]
     },
     "metadata": {
      "needs_background": "light"
     },
     "output_type": "display_data"
    }
   ],
   "source": [
    "import seaborn as sns\n",
    "import numpy as np\n",
    "%matplotlib inline\n",
    "\n",
    "#feature importance 추출\n",
    "print(\"Feature importnaces:\\n{0}\".format(np.round(dt_clf.feature_importances_, 3)))\n",
    "\n",
    "#feature별 importance 매핑\n",
    "for name, value in zip(iris_data.feature_names, dt_clf.feature_importances_):\n",
    "    print('{0} : {1:.3f}'.format(name, value))\n",
    "\n",
    "#feature importance를 column 별로 시각화하기\n",
    "sns.barplot(x=dt_clf.feature_importances_, y=iris_data.feature_names)"
   ]
  },
  {
   "cell_type": "markdown",
   "metadata": {},
   "source": [
    "결정 트리는 알고리즘 자체가 직관적이기 때문에 알고리즘과 관련된 요소를 시각적으로 표현할 수 있는 다양한 방법이 있다. \n",
    "규칙 트리의 시각화와 feature_importances_ 속성을 통해 결정 트리 알고리즘이 어떻게 동작하는지 직관적으로 이해 가능"
   ]
  },
  {
   "cell_type": "markdown",
   "metadata": {},
   "source": [
    "결정 트리 과적합(Overfitting)\n",
    "결정 트리가 어떻게 학습 데이터를 분할해 예측을 수행하는지와 이로 인한 과적합 문제를 시각화해보자.\n",
    "먼저 분류를 위한 데이터 세트를 만들어 본다. 사이킷런은 분류를 위한 테스트용 데이터를 쉽게 만들 수 있도록 make_classification() 함수를 제공합니다. 이 함수를 이용해 2개의 피처가 3가지 유형의 클래스 값을 데이터 만들고 이를 그래프 형태로 시각화하겠습니다. make_classifiacation() 호출 시 반환되는 객체는 피처 데이터 세트와 클래스 레이블 데이터 세트입니다."
   ]
  },
  {
   "cell_type": "code",
   "execution_count": 6,
   "metadata": {},
   "outputs": [
    {
     "data": {
      "text/plain": [
       "<matplotlib.collections.PathCollection at 0xc439848>"
      ]
     },
     "execution_count": 6,
     "metadata": {},
     "output_type": "execute_result"
    },
    {
     "data": {
      "image/png": "[encoded data removed]",
      "text/plain": [
       "<Figure size 432x288 with 1 Axes>"
      ]
     },
     "metadata": {
      "needs_background": "light"
     },
     "output_type": "display_data"
    }
   ],
   "source": [
    "from sklearn.datasets import make_classification\n",
    "import matplotlib.pyplot as plt\n",
    "%matplotlib inline\n",
    "\n",
    "plt.title(\"3 Class values with 2 Features Samples data creation\")\n",
    "\n",
    "# 2차원 시각화를 위해서 피처는 2개, 클래스는 3가지 유형의 분류 샘플 데이터 생성.\n",
    "X_features, y_labels = make_classification(n_features = 2, n_redundant = 0, n_informative = 2, n_classes = 3, n_clusters_per_class = 1, random_state = 0)\n",
    "\n",
    "# 그래프 형태로 2개의 피처로 2차원 좌표 시각화, 각 클래스 값은 다른 색깔로 표시됨\n",
    "plt.scatter(X_features[:, 0], X_features[:, 1], marker='o', c=y_labels, s = 25, edgecolor = 'k')"
   ]
  },
  {
   "cell_type": "markdown",
   "metadata": {},
   "source": [
    "각 피처가 X, Y축으로 나열된 2차원 그래프이며, 3개의 클래스 값 구분은 색깔로 되어있음\n",
    "이제 X_features와 y_labels 데이터 기반으로 결정 트리를 학습. 첫 번째 학습 시에는 결정 트리 생성에 별다른 제약이 없도록 결정 트리의 하이퍼 파라미터를 디폴트로 한 뒤, 결정 트리 모델이 어떠한 결정 기준을 가지고 분할하면서 데이터를 분류하는지 확인할 것입니다. 별도의 함수인 Visualize_boundary()를 생성했습니다. 해당 함수는 머신러닝 모델이 클래스 값을 예측하는 결정 기준을 색상과 경계로 나타내 모델이 어떻게 데이터 세트를 예측 분류하는지 잘 이해할 수 있게 해줍니다. 그래서 특성을 이해할 수 있게 합니다. \n",
    "\n",
    "먼저 결정 트리 생성에 별다른 제약이 없도록 하이퍼 파라미터가 디폴트인 Classifier를 학습하고 결정기준 경계를 시각화"
   ]
  },
  {
   "cell_type": "code",
   "execution_count": 7,
   "metadata": {},
   "outputs": [
    {
     "data": {
      "image/png": "[encoded data removed]",
      "text/plain": [
       "<Figure size 432x288 with 1 Axes>"
      ]
     },
     "metadata": {
      "needs_background": "light"
     },
     "output_type": "display_data"
    }
   ],
   "source": [
    "from sklearn.tree import DecisionTreeClassifier\n",
    "def visualize_boundary(model, X, y):\n",
    "    fig,ax = plt.subplots()\n",
    "    \n",
    "    # 학습 데이타 scatter plot으로 나타내기\n",
    "    ax.scatter(X[:, 0], X[:, 1], c=y, s=25, cmap='rainbow', edgecolor='k',\n",
    "               clim=(y.min(), y.max()), zorder=3)\n",
    "    ax.axis('tight')\n",
    "    ax.axis('off')\n",
    "    xlim_start , xlim_end = ax.get_xlim()\n",
    "    ylim_start , ylim_end = ax.get_ylim()\n",
    "    \n",
    "    # 호출 파라미터로 들어온 training 데이타로 model 학습 . \n",
    "    model.fit(X, y)\n",
    "    # meshgrid 형태인 모든 좌표값으로 예측 수행. \n",
    "    xx, yy = np.meshgrid(np.linspace(xlim_start,xlim_end, num=200),np.linspace(ylim_start,ylim_end, num=200))\n",
    "    Z = model.predict(np.c_[xx.ravel(), yy.ravel()]).reshape(xx.shape)\n",
    "    \n",
    "    # contourf() 를 이용하여 class boundary 를 visualization 수행. \n",
    "    n_classes = len(np.unique(y))\n",
    "    contours = ax.contourf(xx, yy, Z, alpha=0.3,\n",
    "                           levels=np.arange(n_classes + 1) - 0.5,\n",
    "                           cmap='rainbow', clim=(y.min(), y.max()),\n",
    "                           zorder=1)\n",
    "# 특정한 트리 생성 제약 없는 결정 트리의 학습과 결정 경계 시각화\n",
    "dt_clf = DecisionTreeClassifier().fit(X_features, y_labels)\n",
    "visualize_boundary(dt_clf, X_features, y_labels)"
   ]
  },
  {
   "cell_type": "markdown",
   "metadata": {},
   "source": [
    "일부 이상치(Outlier) 데이터까지 분류하기 위해 분할이 자주 일어나서 결정 기준 경계가 매우 많아졌습니다. 결정 트리의 기본 하이퍼 파라미터 설정은 리프 노드 안에 데이터가 모두 균일하거나 하나만 존재해야 하는 엄격한 분할 기준으로 인해 결정 기준 경계가 많아지고 복잡해졌습니다. 이렇게 복잡한 모델은 학습 데이터 세트의 특성과 약간만 다른 형태의 데이터 세트를 예측하면 예측 정확도가 떨어지게 된다."
   ]
  },
  {
   "cell_type": "markdown",
   "metadata": {},
   "source": [
    "min_samples_leaf = 6을 설정해 6개 이하의 데이터는 리프 노드를 생설할 수 있도록 리프 노드 생성 규칙을 완화한 뒤 하이퍼 파라미터를 변경해 어떻게 결정 기준 경계가 변하는지 살펴보겠습니다."
   ]
  },
  {
   "cell_type": "code",
   "execution_count": 8,
   "metadata": {},
   "outputs": [
    {
     "data": {
      "image/png": "[encoded data removed]",
      "text/plain": [
       "<Figure size 432x288 with 1 Axes>"
      ]
     },
     "metadata": {
      "needs_background": "light"
     },
     "output_type": "display_data"
    }
   ],
   "source": [
    "#min_samples_leaf = 6으로 트리 생성 조건을 제약한 결정 경계 시각화\n",
    "dt_clf = DecisionTreeClassifier(min_samples_leaf = 6).fit(X_features, y_labels)\n",
    "visualize_boundary(dt_clf, X_features, y_labels)"
   ]
  },
  {
   "cell_type": "markdown",
   "metadata": {},
   "source": [
    "이상치에 크게 반응하지 않으면서 좀 더 일반화된 분류 규칙에 따라 분류됐음을 알 수 있다. 다양한 테스트 데이터 세트를 기반으로 한 결정 트리 모델의 예측 성능은 첫 번째 모델보다는 min_samples_leaf = 6으로 트리 생성 조건을 제약한 모델이 더 뛰어날 가능성이 높습니다. 왜냐하면 테스트 데이터 세트는 학습 데이터 세트와는 다른 세트인데, 학습 데이터에만 지나치게 최적화된 분류 기준은 오히려 테스트 데이터 세트에서 정확도를 떨어뜨릴 수 있기 때문입니다."
   ]
  },
  {
   "cell_type": "markdown",
   "metadata": {},
   "source": [
    "결정 트리 실습 - 사용자 행동 인식 데이터 세트\n",
    "결정 트리를 이용해 UCI 머신러닝 리포지토리(Machine Learning Repository)에서  제공하는 사용자 행동 인식(Human Acitivity recognition) 데이터 세트에 대한 예측 분류를 수행\n",
    "해당 데이터는 30명에게 스마트폰 센서를 장착한 뒤 사람의 동작과 관련된 여러 가지 피처를 수집한 데이터b"
   ]
  },
  {
   "cell_type": "code",
   "execution_count": 27,
   "metadata": {},
   "outputs": [
    {
     "name": "stdout",
     "output_type": "stream",
     "text": [
      "전체 피처명에서 10개만 추출: ['tBodyAcc-mean()-X', 'tBodyAcc-mean()-Y', 'tBodyAcc-mean()-Z', 'tBodyAcc-std()-X', 'tBodyAcc-std()-Y', 'tBodyAcc-std()-Z', 'tBodyAcc-mad()-X', 'tBodyAcc-mad()-Y', 'tBodyAcc-mad()-Z', 'tBodyAcc-max()-X']\n"
     ]
    }
   ],
   "source": [
    "import pandas as pd\n",
    "import matplotlib.pyplot as plt\n",
    "%matplotlib inline\n",
    "\n",
    "#feature.txt 파일에는 피처 이름 index와 피처명이 공백으로 분리되어 있음. 이를 DataFrame으로 로드.\n",
    "feature_name_df = pd.read_csv('features.txt', sep = '\\s+', header = None, names = ['column_index', 'column_name'])\n",
    "\n",
    "# 피처명 index를 제거하고, 피처명만 리스트 객체로 생성한 뒤 샘플로 10개만 추출\n",
    "feature_name = feature_name_df.iloc[: , 1].values.tolist()\n",
    "print('전체 피처명에서 10개만 추출:' , feature_name[:10])"
   ]
  },
  {
   "cell_type": "markdown",
   "metadata": {},
   "source": [
    "피처명을 보면 인체의 움직임과 관련된 속성의 평균/표준편차가 X, Y, Z축 값으로 돼 있음을 유추\n",
    "피처명을 가지는 DataFrame을 이용해 데이터 파일을 데이터 세트 DataFrame에 로딩 하기 전에 유의해야 할 부분\n",
    "위에서 피처명을 가지고 있는 features_info.txt 파일은 중복된 피처명을 가지고 있습니다. 이 중복된 피처명들을 이용해 데이터 파일을 데티 ㅓ세트 DataFrame에 로드하면 오류가 발생합니다. 따라서 중복된 피처명에 대해서는 원본 피처명에 _1 또는 _2를 추가로 부여해 변경한 뒤에 이를 이용해서 데이터를 DataFrame에 로드하겠습니다."
   ]
  },
  {
   "cell_type": "code",
   "execution_count": 31,
   "metadata": {},
   "outputs": [
    {
     "name": "stdout",
     "output_type": "stream",
     "text": [
      "column_index    42\n",
      "dtype: int64\n"
     ]
    },
    {
     "data": {
      "text/html": [
       "<div>\n",
       "<style scoped>\n",
       "    .dataframe tbody tr th:only-of-type {\n",
       "        vertical-align: middle;\n",
       "    }\n",
       "\n",
       "    .dataframe tbody tr th {\n",
       "        vertical-align: top;\n",
       "    }\n",
       "\n",
       "    .dataframe thead th {\n",
       "        text-align: right;\n",
       "    }\n",
       "</style>\n",
       "<table border=\"1\" class=\"dataframe\">\n",
       "  <thead>\n",
       "    <tr style=\"text-align: right;\">\n",
       "      <th></th>\n",
       "      <th>column_index</th>\n",
       "    </tr>\n",
       "    <tr>\n",
       "      <th>column_name</th>\n",
       "      <th></th>\n",
       "    </tr>\n",
       "  </thead>\n",
       "  <tbody>\n",
       "    <tr>\n",
       "      <th>fBodyAcc-bandsEnergy()-1,16</th>\n",
       "      <td>3</td>\n",
       "    </tr>\n",
       "    <tr>\n",
       "      <th>fBodyAcc-bandsEnergy()-1,24</th>\n",
       "      <td>3</td>\n",
       "    </tr>\n",
       "    <tr>\n",
       "      <th>fBodyAcc-bandsEnergy()-1,8</th>\n",
       "      <td>3</td>\n",
       "    </tr>\n",
       "    <tr>\n",
       "      <th>fBodyAcc-bandsEnergy()-17,24</th>\n",
       "      <td>3</td>\n",
       "    </tr>\n",
       "    <tr>\n",
       "      <th>fBodyAcc-bandsEnergy()-17,32</th>\n",
       "      <td>3</td>\n",
       "    </tr>\n",
       "  </tbody>\n",
       "</table>\n",
       "</div>"
      ],
      "text/plain": [
       "                              column_index\n",
       "column_name                               \n",
       "fBodyAcc-bandsEnergy()-1,16              3\n",
       "fBodyAcc-bandsEnergy()-1,24              3\n",
       "fBodyAcc-bandsEnergy()-1,8               3\n",
       "fBodyAcc-bandsEnergy()-17,24             3\n",
       "fBodyAcc-bandsEnergy()-17,32             3"
      ]
     },
     "execution_count": 31,
     "metadata": {},
     "output_type": "execute_result"
    }
   ],
   "source": [
    "feature_dup_df = feature_name_df.groupby('column_name').count()\n",
    "print(feature_dup_df[feature_dup_df['column_index'] > 1].count())\n",
    "feature_dup_df[feature_dup_df['column_index'] > 1].head()"
   ]
  },
  {
   "cell_type": "markdown",
   "metadata": {},
   "source": [
    "총 42개의 피처명이 중복돼 있습니다. 이 중복된 피처명에 대해서는 원본 피처명에 _1 또는 _2를 추가로 부여해 새로운 피처명을 가지는 DataFrame을 반환하는 함수인 get_new_feature_name_df()를 생성하자."
   ]
  },
  {
   "cell_type": "code",
   "execution_count": 39,
   "metadata": {},
   "outputs": [],
   "source": [
    "def get_new_feature_name_df(old_feature_name_df):\n",
    "    feature_dup_df = pd.DataFrame(data = old_feature_name_df.groupby('column_name').cumcount(), columns = ['dup_cnt'])\n",
    "    feature_dup_df = feature_dup_df.reset_index()\n",
    "    new_feature_name_df = pd.merge(old_feature_name_df.reset_index(), feature_dup_df, how = 'outer')\n",
    "    new_feature_name_df['column_name'] = new_feature_name_df[['column_name', 'dup_cnt']].apply(lambda x : x[0]+'_'+str(x[1]) if x[1] > 0 else x[0], axis = 1)\n",
    "    new_feature_name_df = new_feature_name_df.drop(['index'], axis = 1)\n",
    "    return new_feature_name_df"
   ]
  },
  {
   "cell_type": "markdown",
   "metadata": {},
   "source": [
    "train 디렉터리에 있는 학습용 피처 데이터 세트와 레이블 데이터 세트, test 디렉터리에 있는 테스트용 피처 데이터 파일과 레이블 데이터 파일을 각각 학습/테스트용 DataFrame에 로드\n",
    "각 데이터 파일은 공백으로 분리돼 있으므로 read_csv()의 sep 인자로 공백 문자를 입력\n",
    "레이블 칼럼은 'action'으로 명명. 해당 데이터 세트는 이후 다른 예제에서도 자주 사용되므로 이 DataFrame을 생성하는 로직을 간단한 함수로 생성\n",
    "함수명은 get_humna_dataset()\n",
    "앞에서 생성한 get_new_feature_name_df()는 get_human_dataset() 내에서 적용돼 중복된 피처명을 새로운 피처명"
   ]
  },
  {
   "cell_type": "code",
   "execution_count": 41,
   "metadata": {},
   "outputs": [],
   "source": [
    "import pandas as pd\n",
    "\n",
    "def get_human_dataset():\n",
    "    \n",
    "    # 각 데이터 파일은 공백으로 분리되어 있으므로 read_csv에서 공백 문자를 sep으로 할당.\n",
    "    feature_name_df = pd.read_csv('features.txt', sep = '\\s+', header = None, names = ['column_index', 'column_name'])\n",
    "    \n",
    "    # 중복된 피처명을 수정하는 get_new_feature_name_df()를 이용, 신규 피처명 DataFrame 생성\n",
    "    new_feature_name_df = get_new_feature_name_df(feature_name_df)\n",
    "    \n",
    "    # DataFrame에 피처명을 칼럼으로 부여하기 위해 릴스트 객체로 다시 변환\n",
    "    feature_name = new_feature_name_df.iloc[:, 1].values.tolist()\n",
    "    \n",
    "    # 학습 피처 데이터세트와 테스트 피처 데이터를 DataFrame으로 로딩. 칼럼명은 feature_name 적용\n",
    "    X_train = pd.read_csv('X_train.txt', sep = '\\s+' , names = feature_name )\n",
    "    X_test = pd.read_csv('X_test.txt', sep = '\\s+', names = feature_name)\n",
    "    \n",
    "    # 학습 레이블과 테스트 레이블 데이터를 DataFrame으로 로딩하고 칼럼명은 action으로 부여\n",
    "    y_train = pd.read_csv('y_train.txt', sep = '\\s+' ,header = None, names = ['action'])\n",
    "    y_test = pd.read_csv('y_test.txt', sep = '\\s+', header = None, names = ['action'])\n",
    "    \n",
    "    # 로드된 학습 / 테스터용 DataFrame을 모두 반환\n",
    "    return X_train, X_test, y_train, y_test\n",
    "\n",
    "X_train, X_test, y_train, y_test = get_human_dataset()"
   ]
  },
  {
   "cell_type": "code",
   "execution_count": 42,
   "metadata": {},
   "outputs": [
    {
     "name": "stdout",
     "output_type": "stream",
     "text": [
      "## 학습 피처 데이터셋 info()\n",
      "<class 'pandas.core.frame.DataFrame'>\n",
      "RangeIndex: 7352 entries, 0 to 7351\n",
      "Columns: 561 entries, tBodyAcc-mean()-X to angle(Z,gravityMean)\n",
      "dtypes: float64(561)\n",
      "memory usage: 31.5 MB\n",
      "None\n"
     ]
    }
   ],
   "source": [
    "print('## 학습 피처 데이터셋 info()')\n",
    "print(X_train.info())"
   ]
  },
  {
   "cell_type": "markdown",
   "metadata": {},
   "source": [
    "학습 데이터 세트는 732개의 레코드로 561개의 피처를 가지고 있다.\n",
    "피처가 전부 float 형의 숫자 형이므로 별도의 카테고리 인코딩은 수행할 필요가 없습니다.\n",
    "직접 X_train.head()로 간략하게 학습용 피처 데이터 세트를 보면 많은 칼럼의 대부분이 움직임 위치와 관련된 속성임을 알 수 있을 것입니다. \n",
    "레이블 값은 1, 2, 3, 4, 5, 6개의 6개의 값이고 분포도는 특정 값으로 왜곡되지 않고 비교적 고르게 분포돼있습니다."
   ]
  },
  {
   "cell_type": "code",
   "execution_count": 43,
   "metadata": {},
   "outputs": [
    {
     "name": "stdout",
     "output_type": "stream",
     "text": [
      "6    1407\n",
      "5    1374\n",
      "4    1286\n",
      "1    1226\n",
      "2    1073\n",
      "3     986\n",
      "Name: action, dtype: int64\n"
     ]
    }
   ],
   "source": [
    "print(y_train['action'].value_counts())"
   ]
  },
  {
   "cell_type": "markdown",
   "metadata": {},
   "source": [
    "사이킷런의 DecisionTreeClassifier를 이용해 동작 예측 분류를 수행\n",
    "DecisionTreeClassifier의 하이퍼 파라미터는 모두 디폴드 값으로 설정해 수행하고, 이때의 하이퍼 파라미터 값을 추출"
   ]
  },
  {
   "cell_type": "code",
   "execution_count": 48,
   "metadata": {},
   "outputs": [
    {
     "name": "stdout",
     "output_type": "stream",
     "text": [
      "결정 트리 예측 정확도 : 0.8548\n",
      "DecisionTreeClassifier 기본 하이퍼 파라미터:\n",
      " {'ccp_alpha': 0.0, 'class_weight': None, 'criterion': 'gini', 'max_depth': None, 'max_features': None, 'max_leaf_nodes': None, 'min_impurity_decrease': 0.0, 'min_impurity_split': None, 'min_samples_leaf': 1, 'min_samples_split': 2, 'min_weight_fraction_leaf': 0.0, 'presort': 'deprecated', 'random_state': 156, 'splitter': 'best'}\n"
     ]
    }
   ],
   "source": [
    "from sklearn.tree import DecisionTreeClassifier\n",
    "from sklearn.metrics import accuracy_score\n",
    "\n",
    "# 예제 반복 시마다 동일한 예측 결과 도출을 위해 random_state 설정\n",
    "dt_clf = DecisionTreeClassifier(random_state = 156)\n",
    "dt_clf.fit(X_train, y_train)\n",
    "pred = dt_clf.predict(X_test)\n",
    "accuracy = accuracy_score(y_test , pred)\n",
    "print('결정 트리 예측 정확도 : {0:.4f}'.format(accuracy))\n",
    "\n",
    "# DecisionTreeClassifier의 하이퍼 파라미터 추출\n",
    "print('DecisionTreeClassifier 기본 하이퍼 파라미터:\\n', dt_clf.get_params())"
   ]
  },
  {
   "cell_type": "markdown",
   "metadata": {},
   "source": [
    "결정 트리의 트리 깊이(Tree Depth)가 예측 정확도에 주는 영향\n",
    "결정 트리의 경우 분류를 위해 리프 노드(클래스 결정 노드)가 될 수 있는 적합한 수준이 될 때까지 지속해서 트리의 분할을 수행하면서 깊이가 깊어짐\n",
    "GridSearchSV를 이용해 사이킷런 결정 트리의 깊이를 조절할 수 있는 하이퍼 파라미터인 max_depth 값을 변화시키면서 예측 성능을 확인\n",
    "max_depth를 6, 8, 10, 12, 16, 20, 24로 계속 늘리면서 예측 성능을 측정합니다.\n",
    "교차 검증은 5개 세트입니다."
   ]
  },
  {
   "cell_type": "code",
   "execution_count": 49,
   "metadata": {},
   "outputs": [
    {
     "name": "stdout",
     "output_type": "stream",
     "text": [
      "Fitting 5 folds for each of 7 candidates, totalling 35 fits\n"
     ]
    },
    {
     "name": "stderr",
     "output_type": "stream",
     "text": [
      "[Parallel(n_jobs=1)]: Using backend SequentialBackend with 1 concurrent workers.\n",
      "[Parallel(n_jobs=1)]: Done  35 out of  35 | elapsed:  3.8min finished\n"
     ]
    },
    {
     "name": "stdout",
     "output_type": "stream",
     "text": [
      "GridSearchCV 최고 평균 정확도 수치: 0.8513\n",
      "GridSearchCV 최적 하이퍼 파라미터: {'max_depth': 16}\n"
     ]
    }
   ],
   "source": [
    "from sklearn.model_selection import GridSearchCV\n",
    "\n",
    "params = { 'max_depth' : [ 6, 8, 10, 12, 16, 20, 24]}\n",
    "\n",
    "grid_cv = GridSearchCV(dt_clf, param_grid = params, scoring = 'accuracy', cv = 5, verbose = 1)\n",
    "grid_cv.fit(X_train, y_train)\n",
    "print('GridSearchCV 최고 평균 정확도 수치: {0:.4f}'.format(grid_cv.best_score_))\n",
    "print('GridSearchCV 최적 하이퍼 파라미터:', grid_cv.best_params_)"
   ]
  },
  {
   "cell_type": "markdown",
   "metadata": {},
   "source": [
    "5개의 CV 세트에서 max_depth 값에 따라 어떻게 예측 성능이 변했는지 GridSearchCV 객체의 cv_results_ 속성을 통해 살펴 보겠습니다.\n",
    "GridSearchCV 객체의 cv_results_ 속성은 CV세트에 하이퍼 파라미터를 순차적으로 입력했을 때의 성능 수치를 가지고 있습니다. max_depth에 따른 평가 데이터 세트의 평균 정확도 수치(cv_results_의 'mean_test_score'값)를 cv_results_에서 추출하자."
   ]
  },
  {
   "cell_type": "code",
   "execution_count": 50,
   "metadata": {},
   "outputs": [
    {
     "data": {
      "text/html": [
       "<div>\n",
       "<style scoped>\n",
       "    .dataframe tbody tr th:only-of-type {\n",
       "        vertical-align: middle;\n",
       "    }\n",
       "\n",
       "    .dataframe tbody tr th {\n",
       "        vertical-align: top;\n",
       "    }\n",
       "\n",
       "    .dataframe thead th {\n",
       "        text-align: right;\n",
       "    }\n",
       "</style>\n",
       "<table border=\"1\" class=\"dataframe\">\n",
       "  <thead>\n",
       "    <tr style=\"text-align: right;\">\n",
       "      <th></th>\n",
       "      <th>param_max_depth</th>\n",
       "      <th>mean_test_score</th>\n",
       "    </tr>\n",
       "  </thead>\n",
       "  <tbody>\n",
       "    <tr>\n",
       "      <th>0</th>\n",
       "      <td>6</td>\n",
       "      <td>0.850791</td>\n",
       "    </tr>\n",
       "    <tr>\n",
       "      <th>1</th>\n",
       "      <td>8</td>\n",
       "      <td>0.851069</td>\n",
       "    </tr>\n",
       "    <tr>\n",
       "      <th>2</th>\n",
       "      <td>10</td>\n",
       "      <td>0.851209</td>\n",
       "    </tr>\n",
       "    <tr>\n",
       "      <th>3</th>\n",
       "      <td>12</td>\n",
       "      <td>0.844135</td>\n",
       "    </tr>\n",
       "    <tr>\n",
       "      <th>4</th>\n",
       "      <td>16</td>\n",
       "      <td>0.851344</td>\n",
       "    </tr>\n",
       "    <tr>\n",
       "      <th>5</th>\n",
       "      <td>20</td>\n",
       "      <td>0.850800</td>\n",
       "    </tr>\n",
       "    <tr>\n",
       "      <th>6</th>\n",
       "      <td>24</td>\n",
       "      <td>0.849440</td>\n",
       "    </tr>\n",
       "  </tbody>\n",
       "</table>\n",
       "</div>"
      ],
      "text/plain": [
       "  param_max_depth  mean_test_score\n",
       "0               6         0.850791\n",
       "1               8         0.851069\n",
       "2              10         0.851209\n",
       "3              12         0.844135\n",
       "4              16         0.851344\n",
       "5              20         0.850800\n",
       "6              24         0.849440"
      ]
     },
     "execution_count": 50,
     "metadata": {},
     "output_type": "execute_result"
    }
   ],
   "source": [
    "# GridSearch 객체의 cv_results_ 속성을 DataFrame으로 생성\n",
    "cv_results_df = pd.DataFrame(grid_cv.cv_results_)\n",
    "\n",
    "# max_depth 파라미터 값과 그때의 테스트 세트, 학습 데이터 세트의 정확도 수치 추출\n",
    "cv_results_df[['param_max_depth', 'mean_test_score']]"
   ]
  },
  {
   "cell_type": "markdown",
   "metadata": {},
   "source": [
    "max_test_score은 5개 CV 세트에서 검증용 데이터 세트의 정확도 평균 수치\n",
    "결정 트리는 더 완벽한 규칙을 학습 데이터 세트에 적용하기 위해 노드를 지속적으로 분할하면서 깊이가 깊어지고 더욱 더 복잡한 모델이 됩니다. 깊어진 트리는 학습 데이터 세트에는 올바른 예측 경과를 가져올지 모르지만, 검증 데이터 세트에서는 오히려 과적합으로 인한 성능 저하를 유발하게 됩니다.\n",
    "이번에는 별도의 테스트 데이터 세트에서 결정 트리의 정확도를 측정해 보겠습니다. 앞에서 GridSearchCV 예제에서는 max_depth가 가장 좋은 성능을 나타냈다."
   ]
  },
  {
   "cell_type": "code",
   "execution_count": 52,
   "metadata": {},
   "outputs": [
    {
     "name": "stdout",
     "output_type": "stream",
     "text": [
      "max_depth = 6 정확도 : 0.8558\n",
      "max_depth = 8 정확도 : 0.8707\n",
      "max_depth = 10 정확도 : 0.8673\n",
      "max_depth = 12 정확도 : 0.8646\n",
      "max_depth = 16 정확도 : 0.8575\n",
      "max_depth = 20 정확도 : 0.8548\n",
      "max_depth = 24 정확도 : 0.8548\n"
     ]
    }
   ],
   "source": [
    "max_depths = [ 6, 8, 10, 12, 16, 20, 24]\n",
    "# max_depth 값을 변화시키면서 그때마다 학습과 테스트 세트에서의 예측 성능 측정\n",
    "for depth in max_depths:\n",
    "    dt_clf = DecisionTreeClassifier(max_depth=depth, random_state=156)\n",
    "    dt_clf.fit(X_train, y_train)\n",
    "    pred = dt_clf.predict(X_test)\n",
    "    accuracy = accuracy_score(y_test, pred)\n",
    "    print('max_depth = {0} 정확도 : {1:.4f}'.format(depth, accuracy))"
   ]
  },
  {
   "cell_type": "markdown",
   "metadata": {},
   "source": [
    "max_depth가 8을 넘어가면서 정확도가 계속 감소. 앞의 GridSearchCV예제와 마찬가지로 깊이가 깊어질수록 테스트 데이터 세트의 정확도는 더떨어짐\n",
    "깊이가 깊어질수록 과적합의 영향력이 커지므로 하이퍼 파라미터를 이용해 깊이를 제어할 수 있어야 함. 복잡한 모델보다도 트리 깊이를 낮춘 단순한 모델이 효과적인 결과를 가져올 수도 있다.\n",
    "\n",
    "다음은 max_depth와 min_samples_split을 같이 변경하면서 정확도 성능을 튜닝"
   ]
  },
  {
   "cell_type": "code",
   "execution_count": null,
   "metadata": {},
   "outputs": [
    {
     "name": "stdout",
     "output_type": "stream",
     "text": [
      "Fitting 5 folds for each of 8 candidates, totalling 40 fits\n"
     ]
    },
    {
     "name": "stderr",
     "output_type": "stream",
     "text": [
      "[Parallel(n_jobs=1)]: Using backend SequentialBackend with 1 concurrent workers.\n"
     ]
    }
   ],
   "source": [
    "params = {\n",
    "    'max_depth' : [ 8, 12, 16,20], 'min_samples_split' : [16, 24],\n",
    "}\n",
    "\n",
    "grid_cv = GridSearchCV(dt_clf, param_grid=params, scoring = 'accuracy' , cv = 5, verbose = 1)\n",
    "grid_cv.fit(X_train, y_train)\n",
    "print('GridSearchCV 최고 평균 정확도 수치 : {0:.4f}'.format(grid_cv.best_score_))\n",
    "print('GridSearchCV 최적 하이퍼 파라미터:', grid_cv.best_params_)"
   ]
  },
  {
   "cell_type": "code",
   "execution_count": null,
   "metadata": {},
   "outputs": [],
   "source": [
    "best_df_clf = grid_cv.best_estimator_\n",
    "pred1 = best_df_clf.predict(X_test)\n",
    "accuracy = accuracy_score(y_test, pred1)\n",
    "print('결정 트리 예측 정확도:{0:.4f}'.format(accuracy))"
   ]
  },
  {
   "cell_type": "markdown",
   "metadata": {},
   "source": [
    "마지막으로 결정 트리에서 각 피처의 중요도를 feature_importnaces_ 속성을 이용해 알아보자"
   ]
  },
  {
   "cell_type": "code",
   "execution_count": null,
   "metadata": {},
   "outputs": [],
   "source": [
    "import seaborn as sns\n",
    "\n",
    "ftr_"
   ]
  }
 ],
 "metadata": {
  "kernelspec": {
   "display_name": "Python 3",
   "language": "python",
   "name": "python3"
  },
  "language_info": {
   "codemirror_mode": {
    "name": "ipython",
    "version": 3
   },
   "file_extension": ".py",
   "mimetype": "text/x-python",
   "name": "python",
   "nbconvert_exporter": "python",
   "pygments_lexer": "ipython3",
   "version": "3.7.6"
  }
 },
 "nbformat": 4,
 "nbformat_minor": 4
}
